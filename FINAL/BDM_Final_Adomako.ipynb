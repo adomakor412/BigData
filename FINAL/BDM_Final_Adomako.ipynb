{
 "cells": [
  {
   "cell_type": "code",
   "execution_count": 1,
   "metadata": {},
   "outputs": [],
   "source": [
    "import pyspark\n",
    "from pyspark import SparkContext\n",
    "from pyspark.sql.session import SparkSession\n",
    "from pyspark.sql import SQLContext\n",
    "import pyspark.sql.functions as col#, when\n",
    "import csv\n",
    "\n",
    "# spark = SparkSession(sc)\n",
    "# sqlContext = SQLContext(sc)"
   ]
  },
  {
   "cell_type": "code",
   "execution_count": 2,
   "metadata": {},
   "outputs": [],
   "source": [
    "tktsFile = 'Parking_Violations_Issued_2015_simplified.csv'\n",
    "geo_file =  'cscl.csv'"
   ]
  },
  {
   "cell_type": "code",
   "execution_count": 3,
   "metadata": {},
   "outputs": [],
   "source": [
    "sc = SparkContext()\n",
    "sqlContext = SQLContext(sc)\n",
    "directory = 'hdfs:///data/share/bdm/nyc_parking_violations/'\n",
    "\n",
    "files = []"
   ]
  },
  {
   "cell_type": "code",
   "execution_count": 4,
   "metadata": {},
   "outputs": [],
   "source": [
    "def parseCSV(idx,part):\n",
    "    if idx == 0:\n",
    "        next(part)\n",
    "    for p in csv.reader(part):\n",
    "        if p[23].isalpha() and p[24]=='' and p[21]=='' and p[23]=='':\n",
    "            continue\n",
    "        if '-' in p[23]:\n",
    "            yield(p[23].split('-')[0],p[23].split('-')[1],p[24],p[21],p[4][-4:]) \n",
    "        else:\n",
    "            yield(p[23],\"\",p[24],p[21],p[4][-4:])"
   ]
  },
  {
   "cell_type": "code",
   "execution_count": 5,
   "metadata": {},
   "outputs": [],
   "source": [
    "rows = sc.textFile(tktsFile).mapPartitionsWithIndex(parseCSV)\n",
    "#rows.collect(5)\n",
    "df = sqlContext.createDataFrame(rows,('House Number','HN Compound','Street Name', 'County','Year'))"
   ]
  },
  {
   "cell_type": "code",
   "execution_count": 6,
   "metadata": {},
   "outputs": [
    {
     "data": {
      "text/plain": [
       "5000"
      ]
     },
     "execution_count": 6,
     "metadata": {},
     "output_type": "execute_result"
    }
   ],
   "source": [
    "df.count()"
   ]
  },
  {
   "cell_type": "code",
   "execution_count": 7,
   "metadata": {},
   "outputs": [
    {
     "name": "stdout",
     "output_type": "stream",
     "text": [
      "+------------+-----------+-----------+------+----+\n",
      "|House Number|HN Compound|Street Name|County|Year|\n",
      "+------------+-----------+-----------+------+----+\n",
      "|         158|           |    8th Ave|    NY|2015|\n",
      "|          10|           |  E 29th St|    NY|2015|\n",
      "|          46|           | William St|    NY|2014|\n",
      "|           S|           |  Remsen St|     K|2015|\n",
      "|           W|           |   161st St|     Q|2014|\n",
      "|         115|           | W 172nd St|    BX|2015|\n",
      "|         350|           |  W 58th St|    NY|2015|\n",
      "|        1965|           |   Broadway|    NY|2014|\n",
      "|        8027|           |Jamaica Ave|     Q|2015|\n",
      "|          82|         46|   135th St|     Q|2015|\n",
      "+------------+-----------+-----------+------+----+\n",
      "only showing top 10 rows\n",
      "\n"
     ]
    }
   ],
   "source": [
    "df.show(10)"
   ]
  },
  {
   "cell_type": "code",
   "execution_count": 8,
   "metadata": {},
   "outputs": [],
   "source": [
    "def parseCL(idx,part):\n",
    "    if idx == 0:\n",
    "        next(part)\n",
    "    for p in csv.reader(part):\n",
    "        LL_HN = p[0]\n",
    "        LL_HNC = ''\n",
    "        LH_HN = p[0]\n",
    "        LH_HNC = ''\n",
    "        if '-' in p[0] and '-' in p[1]:#need and statement otherwise may run into case with nulls\n",
    "            LL_HN = p[0].split('-')[0]\n",
    "            LL_HNC = p[0].split('-')[1]\n",
    "            LH_HN = p[1].split('-')[0]\n",
    "            LH_HNC = p[1].split('-')[1]\n",
    "        RL_HN = p[4]\n",
    "        RL_HNC = ''\n",
    "        RH_HN = p[5]\n",
    "        RH_HNC = ''\n",
    "        if '-' in p[4] and '-' in p[5]:\n",
    "            RL_HN = p[4].split('-')[0]\n",
    "            RL_HNC = p[4].split('-')[1]\n",
    "            RH_HN = p[5].split('-')[0]\n",
    "            RH_HNC = p[5].split('-')[1]\n",
    "            \n",
    "        \n",
    "        yield(p[3], p[28], p[10], p[13], LL_HN, LL_HNC, LH_HN, LH_HNC, RL_HN, RL_HNC, RH_HN, RH_HNC  )"
   ]
  },
  {
   "cell_type": "code",
   "execution_count": 9,
   "metadata": {},
   "outputs": [
    {
     "name": "stdout",
     "output_type": "stream",
     "text": [
      "+-------+--------------------+--------------------+--------+------+------+------+------+-----+------+-----+------+\n",
      "|     ID|         Full Street|            st label|borocode| LL_HN|LL_HNC| LH_HN|LH_HNC|RL_HN|RL_HNC|RH_HN|RH_HNC|\n",
      "+-------+--------------------+--------------------+--------+------+------+------+------+-----+------+-----+------+\n",
      "|       |MITSUBISHI WILD W...|MITSUBISHI WILD W...|       2|164809|      |164809|      |     |      |     |      |\n",
      "|215-027|              28 AVE|               28 AV|       4|  6110|      |  6110|      |  215|   000|  215|   026|\n",
      "|    399|     SCHERMERHORN ST|     SCHERMERHORN ST|       3|145494|      |145494|      |  316|      |  360|      |\n",
      "|   5699|       ARLINGTON AVE|        ARLINGTON AV|       2| 61140|      | 61140|      | 5602|      | 5698|      |\n",
      "|120-011|         QUEENS BLVD|         QUEENS BLVD|       4| 12438|      | 12438|      |    0|      |    0|      |\n",
      "|    555|       ARTHUR KIL RD|      ARTHUR KILL RD|       5| 15432|      | 15432|      |  528|      |  554|      |\n",
      "|    759|           E  181 ST|            E 181 ST|       2| 52620|      | 52620|      |  730|      |  758|      |\n",
      "| 51-099|               58 LN|               58 LA|       4| 83272|      | 83272|      |   51|   000|   51|   098|\n",
      "| 68-099|          FOREST AVE|           FOREST AV|       4| 26405|      | 26405|      |   68|   050|   68|   098|\n",
      "|     15|            TIDES LN|            TIDES LA|       5| 95944|      | 95944|      |    0|      |    0|      |\n",
      "+-------+--------------------+--------------------+--------+------+------+------+------+-----+------+-----+------+\n",
      "only showing top 10 rows\n",
      "\n"
     ]
    },
    {
     "data": {
      "text/plain": [
       "999"
      ]
     },
     "execution_count": 9,
     "metadata": {},
     "output_type": "execute_result"
    }
   ],
   "source": [
    "rdd2 = sc.textFile('geo_2015.csv').mapPartitionsWithIndex(parseCL)\n",
    "df2  = sqlContext.createDataFrame(rdd2,('ID','Full Street','st label','borocode','LL_HN','LL_HNC','LH_HN','LH_HNC','RL_HN','RL_HNC','RH_HN','RH_HNC'))\n",
    "df2.show(10)\n",
    "df2.count()"
   ]
  },
  {
   "cell_type": "code",
   "execution_count": 10,
   "metadata": {},
   "outputs": [],
   "source": [
    "county = {\n",
    "    'BROOKLYN':('BK','K','KING','KINGS'),\n",
    "    'MANHATTAN':('MAN','MH','MN','NEWY','NEW Y','NY'),\n",
    "    'BRONX':('BRONX','BX'), #MATCH ON SUBSTRING\n",
    "    'QUEENS': ('Q','QN','QNS','QU','QUEEN'),\n",
    "    'STATEN ISLAND': ('R','RICHMOND')\n",
    "}"
   ]
  },
  {
   "cell_type": "markdown",
   "metadata": {},
   "source": [
    "# ~55million total, 35M matched"
   ]
  },
  {
   "cell_type": "code",
   "execution_count": 11,
   "metadata": {},
   "outputs": [],
   "source": [
    "cond1 = df['Street Name'] == df2['Full Street']\n",
    "cond2 = df['Street Name'] == df2['st label']\n",
    "cond3 = df['County'] == df2['borocode']\n",
    "\n",
    "joined = df2.join(df, (cond1|cond2) & cond3, 'inner')\n",
    "left = joined.filter((joined['House Number'] %2 == 1) & joined['HN Compound'].isNull())\n",
    "right = joined.filter((joined['House Number'] %2 == 0) & joined['HN Compound'].isNull())\n",
    "\n",
    "left_withc = joined.filter((joined['House Number'] %2 == 1) & joined['HN Compound'].isNotNull())\n",
    "right_withc = joined.filter((joined['House Number'] %2 == 0) & joined['HN Compound'].isNotNull())\n",
    "\n"
   ]
  },
  {
   "cell_type": "code",
   "execution_count": 12,
   "metadata": {},
   "outputs": [
    {
     "name": "stdout",
     "output_type": "stream",
     "text": [
      "0\n",
      "0\n",
      "0\n",
      "0\n"
     ]
    }
   ],
   "source": [
    "\n",
    "print(left.count())\n",
    "print(right.count())\n",
    "print(left_withc.count())\n",
    "print(right_withc.count())"
   ]
  },
  {
   "cell_type": "code",
   "execution_count": null,
   "metadata": {},
   "outputs": [],
   "source": []
  },
  {
   "cell_type": "code",
   "execution_count": null,
   "metadata": {},
   "outputs": [],
   "source": []
  }
 ],
 "metadata": {
  "kernelspec": {
   "display_name": "Python 3",
   "language": "python",
   "name": "python3"
  },
  "language_info": {
   "codemirror_mode": {
    "name": "ipython",
    "version": 3
   },
   "file_extension": ".py",
   "mimetype": "text/x-python",
   "name": "python",
   "nbconvert_exporter": "python",
   "pygments_lexer": "ipython3",
   "version": "3.7.6"
  }
 },
 "nbformat": 4,
 "nbformat_minor": 4
}
