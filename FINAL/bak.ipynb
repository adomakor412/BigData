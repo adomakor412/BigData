{
 "cells": [
  {
   "cell_type": "code",
   "execution_count": 1,
   "metadata": {},
   "outputs": [],
   "source": [
    "import pyspark\n",
    "from pyspark import SparkContext\n",
    "from pyspark.sql.session import SparkSession\n",
    "from pyspark.sql import SQLContext\n",
    "from pyspark.sql.functions import col, when\n",
    "import pyspark.sql.types as st\n",
    "\n",
    "import csv\n",
    "from bisect import bisect, bisect_left, bisect_right\n",
    "\n",
    "import datetime\n",
    "# spark = SparkSession(sc)\n",
    "# sqlContext = SQLContext(sc)"
   ]
  },
  {
   "cell_type": "code",
   "execution_count": 2,
   "metadata": {},
   "outputs": [],
   "source": [
    "geo_file =  'nyc_cscl.csv'"
   ]
  },
  {
   "cell_type": "code",
   "execution_count": 3,
   "metadata": {},
   "outputs": [],
   "source": [
    "sc = SparkContext()\n",
    "sqlContext = SQLContext(sc)\n",
    "directory = 'hdfs:///data/share/bdm/nyc_parking_violations/'\n",
    "\n",
    "#rdd2 = sc.textFile(geo_file).mapPartitionsWithIndex(parseCL)"
   ]
  },
  {
   "cell_type": "code",
   "execution_count": 4,
   "metadata": {},
   "outputs": [],
   "source": [
    "def parseCL(idx,part):\n",
    "    if idx == 0:\n",
    "        next(part)\n",
    "    for p in csv.reader(part):\n",
    "        \n",
    "        #Left Houses\n",
    "        if '-' in p[2] and '-' in p[3]:#need and statement otherwise may run into case with nulls\n",
    "            V1_LL, V2_LL = p[2].strip().split('-')\n",
    "            LL_HN = V1_LL#(V1_LL, V2_LL)\n",
    "            \n",
    "            V1_LH, V2_LH = p[3].strip().split('-')\n",
    "            LH_HN = V1_LH#(V1_LH, V2_LH)\n",
    "            \n",
    "        elif len(p[2])==0  and len(p[3])==0:\n",
    "            LL_HN, LH_HN = '0', '0'\n",
    "            \n",
    "        else:\n",
    "            LL_HN, LH_HN = p[2].split('-')[0],  p[3].split('-')[0]\n",
    "            \n",
    "        #Right Houses\n",
    "        if '-' in p[4] and '-' in p[5]:\n",
    "            V1_RL, V2_RL = p[4].strip().split('-')\n",
    "            RL_HN = V1_RL#(V1_RL, V2_RL)\n",
    "            \n",
    "            V1_RH, V2_RH = p[5].strip().split('-')\n",
    "            RH_HN = V1_RH#(V1_RH, V2_RH)\n",
    "            \n",
    "        elif len(p[4])==0 and len(p[5])==0:\n",
    "            RL_HN, RH_HN = '0', '0'\n",
    "            \n",
    "        else:\n",
    "            RL_HN, RH_HN = p[4].split('-')[0], p[5].split('-')[0]\n",
    "        \n",
    "        #ID\n",
    "        if len(p[0])==0:\n",
    "            continue\n",
    "        else:\n",
    "            ID = p[0].strip()\n",
    "        \n",
    "        #Full_Street and Street Label:\n",
    "        if len(p[28])==0 and len(p[10])==0:\n",
    "            continue\n",
    "        else:\n",
    "            full_st = p[28].lower().strip()\n",
    "            st_label = p[10].lower().strip()\n",
    "        \n",
    "        #borocode\n",
    "        if p[13].strip() not in ['1','2','3','4','5']:\n",
    "            continue\n",
    "        borocode = p[13]\n",
    "        \n",
    "        #yield\n",
    "        row = (ID, full_st, st_label, borocode, \n",
    "              LL_HN, LH_HN, RL_HN, RH_HN )\n",
    "        \n",
    "        yield row"
   ]
  },
  {
   "cell_type": "code",
   "execution_count": 5,
   "metadata": {},
   "outputs": [
    {
     "name": "stdout",
     "output_type": "stream",
     "text": [
      "547313\n",
      "+------+--------------------+--------------------+--------+-----+-----+-----+-----+\n",
      "|    ID|         Full Street|            st label|borocode|LL_HN|LH_HN|RL_HN|RH_HN|\n",
      "+------+--------------------+--------------------+--------+-----+-----+-----+-----+\n",
      "|164809|mitsubishi wild w...|mitsubishi wild w...|       2|    0|    0|    0|    0|\n",
      "|  6110|              28 ave|               28 av|       4|  215|  215|  215|  215|\n",
      "|145494|     schermerhorn st|     schermerhorn st|       3|  317|  399|  316|  360|\n",
      "| 61140|       arlington ave|        arlington av|       2| 5631| 5699| 5602| 5698|\n",
      "| 12438|         queens blvd|         queens blvd|       4|  120|  120|    0|    0|\n",
      "| 15432|       arthur kil rd|      arthur kill rd|       5|  555|  555|  528|  554|\n",
      "| 52620|           e  181 st|            e 181 st|       2|  731|  759|  730|  758|\n",
      "| 83272|               58 ln|               58 la|       4|   51|   51|   51|   51|\n",
      "| 26405|          forest ave|           forest av|       4|   68|   68|   68|   68|\n",
      "| 95944|            tides ln|            tides la|       5|   15|   15|    0|    0|\n",
      "|178314|martha's vyd-high...|highlands-marthas...|       2|    0|    0|    0|    0|\n",
      "| 94775|    cypress crest ln|    cypress crest la|       5|    0|    0|    0|    0|\n",
      "| 47311|         walworth st|         walworth st|       3|   67|  131|   72|  134|\n",
      "| 42619|               58 st|               58 st|       3|  701|  799|  700|  798|\n",
      "| 61335|        herschell st|        herschell st|       2| 1357| 1399| 1358| 1364|\n",
      "+------+--------------------+--------------------+--------+-----+-----+-----+-----+\n",
      "only showing top 15 rows\n",
      "\n"
     ]
    }
   ],
   "source": [
    "labels=('ID','Full Street','st label','borocode','LL_HN','LH_HN','RL_HN','RH_HN')\n",
    "\n",
    "centerLine = sc.textFile(geo_file).mapPartitionsWithIndex(parseCL,labels)\n",
    "print(centerLine.count())\n",
    "\n",
    "CL_frame = sqlContext.createDataFrame(centerLine,labels)\n",
    "centerLine.take(5)\n",
    "CL_frame.show(15)"
   ]
  },
  {
   "cell_type": "code",
   "execution_count": 8,
   "metadata": {},
   "outputs": [],
   "source": [
    "def parseCSV(idx,part):  \n",
    "    county = {\n",
    "        'BROOKLYN':('BK','K','KING','KINGS'),\n",
    "        'MANHATTAN':('MAN','MH','MN','NEWY','NEW Y','NY'),\n",
    "        'BRONX':('BRONX','BX'), #MATCH ON SUBSTRING\n",
    "        'QUEENS': ('Q','QN','QNS','QU','QUEEN'),\n",
    "        'STATEN ISLAND': ('R','RICHMOND')\n",
    "    }\n",
    "\n",
    "    counties ={}\n",
    "    boros = list(county.keys())\n",
    "    boros = [boro.lower() for boro in county.keys()]\n",
    "\n",
    "    county_tups = list(county.values())\n",
    "    for code in county_tups:\n",
    "        for symb in code:\n",
    "            counties[symb.lower()]=str(county_tups.index(code)+1)\n",
    "        \n",
    "    years = ['2015','2016','2017','2018','2019']\n",
    "    \n",
    "    if idx == 0:\n",
    "        next(part)\n",
    "    for p in csv.reader(part):\n",
    "        if p[23].isalpha() and p[24]=='' and p[21]=='' and p[23]=='':\n",
    "            continue\n",
    "    \n",
    "        if '-' in p[23]:\n",
    "            HN = p[23].split('-')[0].lower().strip()\n",
    "            HNC = p[23].split('-')[1].lower().strip()\n",
    "        \n",
    "        elif '' == p[23]:\n",
    "            continue\n",
    "        else:\n",
    "            HN = p[23].lower().strip()\n",
    "            HNC = \"\"\n",
    "        SN = p[24].lower().strip()\n",
    "        \n",
    "        cn = p[21].lower().strip()\n",
    "        if cn not in list(counties.keys()):\n",
    "            next(part)\n",
    "        try:    \n",
    "            CN = counties[cn]\n",
    "        except:\n",
    "            continue\n",
    "        \n",
    "        year = p[4][-4:].lower().strip()\n",
    "        \n",
    "        #yield result\n",
    "        row = (HN,HNC,SN,CN,year)\n",
    "        \n",
    "        if year in years:\n",
    "            yield row"
   ]
  },
  {
   "cell_type": "code",
   "execution_count": 9,
   "metadata": {},
   "outputs": [
    {
     "name": "stdout",
     "output_type": "stream",
     "text": [
      "17244\n",
      "+------------+-----------+-----------------+------+----+\n",
      "|House Number|HN Compound|      Street Name|County|Year|\n",
      "+------------+-----------+-----------------+------+----+\n",
      "|         325|           |       e 112th st|     2|2018|\n",
      "|         410|           |       e 100th st|     2|2018|\n",
      "|         283|           |       4th avenue|     1|2018|\n",
      "|        2790|           |          8th ave|     2|2018|\n",
      "|        2790|           |          8th ave|     2|2018|\n",
      "|          20|           |          pine st|     2|2018|\n",
      "|           5|           |         st marks|     2|2018|\n",
      "|         150|           |          w 21 st|     2|2018|\n",
      "|          54|           |          w 47 st|     2|2018|\n",
      "|          54|           |          w 47 st|     2|2018|\n",
      "|          50|           |          w 47 st|     2|2018|\n",
      "|          50|           |          w 47 st|     2|2018|\n",
      "|          14|           |          w 47 st|     2|2018|\n",
      "|         490|           |   longfellow ave|     3|2018|\n",
      "|          12|         35|           35 ave|     4|2018|\n",
      "|        2920|           |      w 21 street|     1|2018|\n",
      "|        2920|           |      w 21 street|     1|2018|\n",
      "|         119|           |      garfield pl|     1|2018|\n",
      "|        2790|           |          8th ave|     2|2018|\n",
      "|        2839|           |      zunette ave|     3|2018|\n",
      "|          54|           |          w 47 st|     2|2018|\n",
      "|          50|           |          w 47 st|     2|2018|\n",
      "|          50|           |          w 47 st|     2|2018|\n",
      "|          20|           |          w 47 st|     2|2018|\n",
      "|          20|           |          w 47 st|     2|2018|\n",
      "|          22|           |          w 47 st|     2|2018|\n",
      "|          14|           |          w 47 st|     2|2018|\n",
      "|          84|           |      p park west|     1|2018|\n",
      "|        7005|           |juniper valley rd|     4|2018|\n",
      "|        1901|           |         avenue r|     1|2018|\n",
      "|        4375|           |      bedford ave|     1|2018|\n",
      "|           n|           |         18th ave|     1|2018|\n",
      "|        4720|           |         15th ave|     1|2018|\n",
      "|        4013|           |         15th ave|     1|2018|\n",
      "|           s|           |         avenue i|     1|2018|\n",
      "|         890|           |        e 16th st|     1|2018|\n",
      "|        4052|           |      bedford ave|     1|2018|\n",
      "|         675|           |        e 32nd st|     1|2018|\n",
      "|           s|           |      farragut rd|     1|2018|\n",
      "|         659|           |        e 31st st|     1|2018|\n",
      "+------------+-----------+-----------------+------+----+\n",
      "only showing top 40 rows\n",
      "\n"
     ]
    }
   ],
   "source": [
    "rows = sc.textFile('Parking_Violations_Issued_201[5-9]_simplified.csv').mapPartitionsWithIndex(parseCSV)\n",
    "print(rows.count())\n",
    "\n",
    "\n",
    "tkts_Frame = sqlContext.createDataFrame(rows,('House Number','HN Compound','Street Name', 'County','Year'))\n",
    "tkts_Frame.show(40)\n"
   ]
  },
  {
   "cell_type": "code",
   "execution_count": 10,
   "metadata": {},
   "outputs": [
    {
     "name": "stdout",
     "output_type": "stream",
     "text": [
      "+------------+-----------+--------------+------+----+\n",
      "|House Number|HN Compound|   Street Name|County|Year|\n",
      "+------------+-----------+--------------+------+----+\n",
      "|         325|       null|    e 112th st|     2|2018|\n",
      "|         410|       null|    e 100th st|     2|2018|\n",
      "|         283|       null|    4th avenue|     1|2018|\n",
      "|        2790|       null|       8th ave|     2|2018|\n",
      "|        2790|       null|       8th ave|     2|2018|\n",
      "|          20|       null|       pine st|     2|2018|\n",
      "|           5|       null|      st marks|     2|2018|\n",
      "|         150|       null|       w 21 st|     2|2018|\n",
      "|          54|       null|       w 47 st|     2|2018|\n",
      "|          54|       null|       w 47 st|     2|2018|\n",
      "|          50|       null|       w 47 st|     2|2018|\n",
      "|          50|       null|       w 47 st|     2|2018|\n",
      "|          14|       null|       w 47 st|     2|2018|\n",
      "|         490|       null|longfellow ave|     3|2018|\n",
      "|          12|         35|        35 ave|     4|2018|\n",
      "|        2920|       null|   w 21 street|     1|2018|\n",
      "|        2920|       null|   w 21 street|     1|2018|\n",
      "|         119|       null|   garfield pl|     1|2018|\n",
      "|        2790|       null|       8th ave|     2|2018|\n",
      "|        2839|       null|   zunette ave|     3|2018|\n",
      "|          54|       null|       w 47 st|     2|2018|\n",
      "|          50|       null|       w 47 st|     2|2018|\n",
      "|          50|       null|       w 47 st|     2|2018|\n",
      "|          20|       null|       w 47 st|     2|2018|\n",
      "|          20|       null|       w 47 st|     2|2018|\n",
      "+------------+-----------+--------------+------+----+\n",
      "only showing top 25 rows\n",
      "\n"
     ]
    },
    {
     "data": {
      "text/plain": [
       "17244"
      ]
     },
     "execution_count": 10,
     "metadata": {},
     "output_type": "execute_result"
    }
   ],
   "source": [
    "tkts_Frame = tkts_Frame.withColumn('House Number',tkts_Frame['House Number'].cast('int'))\n",
    "tkts_Frame = tkts_Frame.withColumn('HN Compound',tkts_Frame['HN Compound'].cast('int'))\n",
    "tkts_Frame.show(25)\n",
    "tkts_Frame.count()"
   ]
  },
  {
   "cell_type": "code",
   "execution_count": 11,
   "metadata": {},
   "outputs": [],
   "source": [
    "tkts_HN_even = tkts_Frame.filter(tkts_Frame['House Number']%2==0)\n",
    "\n",
    "tkts_HN_odd = tkts_Frame.filter(tkts_Frame['House Number']%2==1)"
   ]
  },
  {
   "cell_type": "code",
   "execution_count": 12,
   "metadata": {},
   "outputs": [
    {
     "name": "stdout",
     "output_type": "stream",
     "text": [
      "+------------+-----------+--------------+------+----+\n",
      "|House Number|HN Compound|   Street Name|County|Year|\n",
      "+------------+-----------+--------------+------+----+\n",
      "|         410|       null|    e 100th st|     2|2018|\n",
      "|        2790|       null|       8th ave|     2|2018|\n",
      "|        2790|       null|       8th ave|     2|2018|\n",
      "|          20|       null|       pine st|     2|2018|\n",
      "|         150|       null|       w 21 st|     2|2018|\n",
      "|          54|       null|       w 47 st|     2|2018|\n",
      "|          54|       null|       w 47 st|     2|2018|\n",
      "|          50|       null|       w 47 st|     2|2018|\n",
      "|          50|       null|       w 47 st|     2|2018|\n",
      "|          14|       null|       w 47 st|     2|2018|\n",
      "|         490|       null|longfellow ave|     3|2018|\n",
      "|          12|         35|        35 ave|     4|2018|\n",
      "|        2920|       null|   w 21 street|     1|2018|\n",
      "|        2920|       null|   w 21 street|     1|2018|\n",
      "|        2790|       null|       8th ave|     2|2018|\n",
      "+------------+-----------+--------------+------+----+\n",
      "only showing top 15 rows\n",
      "\n",
      "+------------+-----------+-----------------+------+----+\n",
      "|House Number|HN Compound|      Street Name|County|Year|\n",
      "+------------+-----------+-----------------+------+----+\n",
      "|         325|       null|       e 112th st|     2|2018|\n",
      "|         283|       null|       4th avenue|     1|2018|\n",
      "|           5|       null|         st marks|     2|2018|\n",
      "|         119|       null|      garfield pl|     1|2018|\n",
      "|        2839|       null|      zunette ave|     3|2018|\n",
      "|        7005|       null|juniper valley rd|     4|2018|\n",
      "|        1901|       null|         avenue r|     1|2018|\n",
      "|        4375|       null|      bedford ave|     1|2018|\n",
      "|        4013|       null|         15th ave|     1|2018|\n",
      "|         675|       null|        e 32nd st|     1|2018|\n",
      "|         659|       null|        e 31st st|     1|2018|\n",
      "|          37|       null|        hillel pl|     1|2018|\n",
      "|        2361|       null|     nostrand ave|     1|2018|\n",
      "|        3201|       null|         avenue j|     1|2018|\n",
      "|         425|       null|    lexington ave|     2|2018|\n",
      "+------------+-----------+-----------------+------+----+\n",
      "only showing top 15 rows\n",
      "\n"
     ]
    }
   ],
   "source": [
    "tkts_HN_even.show(15)\n",
    "tkts_HN_odd.show(15)"
   ]
  },
  {
   "cell_type": "code",
   "execution_count": 13,
   "metadata": {},
   "outputs": [],
   "source": [
    "#####EVEN Conditions ########\n",
    "cond1 = CL_frame['Full Street'] == tkts_HN_even['Street Name']\n",
    "cond2 = CL_frame['st label'] == tkts_HN_even['Street Name']\n",
    "cond3 = CL_frame['borocode'] == tkts_HN_even['County']\n",
    "cond4 = CL_frame['RH_HN'] >= tkts_HN_even['House Number']\n",
    "cond5 = CL_frame['RL_HN'] <= tkts_HN_even['House Number']\n",
    "\n",
    "#####ODD Conditions ########\n",
    "cond6 = CL_frame['Full Street'] == tkts_HN_odd['Street Name']\n",
    "cond7 = CL_frame['st label'] == tkts_HN_odd['Street Name']\n",
    "cond8 = CL_frame['borocode'] == tkts_HN_odd['County']\n",
    "cond9 = CL_frame['LH_HN'] >= tkts_HN_odd['House Number']\n",
    "cond10 = CL_frame['LL_HN'] <= tkts_HN_odd['House Number']"
   ]
  },
  {
   "cell_type": "code",
   "execution_count": 14,
   "metadata": {},
   "outputs": [
    {
     "name": "stdout",
     "output_type": "stream",
     "text": [
      "+-----+------------+------------+--------+-----+-----+-----+-----+------------+-----------+------------+------+----+\n",
      "|   ID| Full Street|    st label|borocode|LL_HN|LH_HN|RL_HN|RH_HN|House Number|HN Compound| Street Name|County|Year|\n",
      "+-----+------------+------------+--------+-----+-----+-----+-----+------------+-----------+------------+------+----+\n",
      "|37719|  3rd avenue|        3 av|       3|    0|    0| 4500| 4598|        4574|       null|  3rd avenue|     3|2018|\n",
      "|23058|ditmars blvd|ditmars blvd|       4|   36|   36|   36|   36|          36|         19|ditmars blvd|     4|2015|\n",
      "|10092|ditmars blvd|ditmars blvd|       4|    0|    0|   94|   94|          94|          0|ditmars blvd|     4|2015|\n",
      "|23052|ditmars blvd|ditmars blvd|       4|   28|   28|   28|   28|          28|         18|ditmars blvd|     4|2015|\n",
      "|23060|ditmars blvd|ditmars blvd|       4|   38|   39|   38|   39|          38|          5|ditmars blvd|     4|2017|\n",
      "|12761|ditmars blvd|ditmars blvd|       4|  103|  104|  102|  104|         104|         43|ditmars blvd|     4|2015|\n",
      "|97182|  frisco ave|   frisco av|       4|   12|   12|   12|   12|          12|         20|  frisco ave|     4|2017|\n",
      "|20545|merrick blvd|merrick blvd|       4|    0|    0|  226|  226|         226|         11|merrick blvd|     4|2017|\n",
      "|20533|merrick blvd|merrick blvd|       4|    0|    0|  218|  218|         218|         20|merrick blvd|     4|2018|\n",
      "|20437|merrick blvd|merrick blvd|       4|    0|    0|   92|   92|          92|         24|merrick blvd|     4|2016|\n",
      "|20524|merrick blvd|merrick blvd|       4|    0|    0|  132|  132|         132|         20|merrick blvd|     4|2015|\n",
      "|20534|merrick blvd|merrick blvd|       4|    0|    0|  218|  218|         218|         20|merrick blvd|     4|2018|\n",
      "|20554|merrick blvd|merrick blvd|       4|    0|    0|  234|  234|         234|          8|merrick blvd|     4|2018|\n",
      "|20412|merrick blvd|merrick blvd|       4|    0|    0|  119|  121|         120|          2|merrick blvd|     4|2018|\n",
      "|20438|merrick blvd|merrick blvd|       4|   92|   92|   92|   92|          92|         24|merrick blvd|     4|2016|\n",
      "+-----+------------+------------+--------+-----+-----+-----+-----+------------+-----------+------------+------+----+\n",
      "only showing top 15 rows\n",
      "\n"
     ]
    },
    {
     "data": {
      "text/plain": [
       "2578"
      ]
     },
     "execution_count": 14,
     "metadata": {},
     "output_type": "execute_result"
    }
   ],
   "source": [
    "df_match_3145 = CL_frame.join(tkts_HN_even,cond3 & cond1 & cond4 & cond5 )\n",
    "df_match_3145.show(15)\n",
    "a = df_match_3145.count()\n",
    "a"
   ]
  },
  {
   "cell_type": "code",
   "execution_count": 19,
   "metadata": {},
   "outputs": [
    {
     "name": "stdout",
     "output_type": "stream",
     "text": [
      "+-----+--------------+--------+--------+-----+-----+-----+-----+------------+-----------+-----------+------+----+\n",
      "|   ID|   Full Street|st label|borocode|LL_HN|LH_HN|RL_HN|RH_HN|House Number|HN Compound|Street Name|County|Year|\n",
      "+-----+--------------+--------+--------+-----+-----+-----+-----+------------+-----------+-----------+------+----+\n",
      "|72726|      e  59 st| e 59 st|       1|  325|  399|  326|  398|         364|       null|    e 59 st|     1|2018|\n",
      "|72726|         59 st| e 59 st|       1|  325|  399|  326|  398|         364|       null|    e 59 st|     1|2018|\n",
      "|72726|       east 59| e 59 st|       1|  325|  399|  326|  398|         364|       null|    e 59 st|     1|2018|\n",
      "|72726|     east 59th| e 59 st|       1|  325|  399|  326|  398|         364|       null|    e 59 st|     1|2018|\n",
      "|72726|    e 59 th st| e 59 st|       1|  325|  399|  326|  398|         364|       null|    e 59 st|     1|2018|\n",
      "|72726|     e 59th st| e 59 st|       1|  325|  399|  326|  398|         364|       null|    e 59 st|     1|2018|\n",
      "|72726|  east 59th st| e 59 st|       1|  325|  399|  326|  398|         364|       null|    e 59 st|     1|2018|\n",
      "|72726|        e 59th| e 59 st|       1|  325|  399|  326|  398|         364|       null|    e 59 st|     1|2018|\n",
      "|72726|       59th st| e 59 st|       1|  325|  399|  326|  398|         364|       null|    e 59 st|     1|2018|\n",
      "|72726|   59th street| e 59 st|       1|  325|  399|  326|  398|         364|       null|    e 59 st|     1|2018|\n",
      "|72726| e 59th street| e 59 st|       1|  325|  399|  326|  398|         364|       null|    e 59 st|     1|2018|\n",
      "|72726|          e 59| e 59 st|       1|  325|  399|  326|  398|         364|       null|    e 59 st|     1|2018|\n",
      "|72726|     59 street| e 59 st|       1|  325|  399|  326|  398|         364|       null|    e 59 st|     1|2018|\n",
      "|72726|east 59 street| e 59 st|       1|  325|  399|  326|  398|         364|       null|    e 59 st|     1|2018|\n",
      "|72726|    east 59 st| e 59 st|       1|  325|  399|  326|  398|         364|       null|    e 59 st|     1|2018|\n",
      "+-----+--------------+--------+--------+-----+-----+-----+-----+------------+-----------+-----------+------+----+\n",
      "only showing top 15 rows\n",
      "\n"
     ]
    },
    {
     "data": {
      "text/plain": [
       "3591"
      ]
     },
     "execution_count": 19,
     "metadata": {},
     "output_type": "execute_result"
    }
   ],
   "source": [
    "df_match_3245 = CL_frame.join(tkts_HN_even,cond3 & cond2 & cond4 & cond5 )\n",
    "df_match_3245.show(15)\n",
    "b = df_match_3245.count()\n",
    "b"
   ]
  },
  {
   "cell_type": "code",
   "execution_count": 20,
   "metadata": {},
   "outputs": [
    {
     "name": "stdout",
     "output_type": "stream",
     "text": [
      "+------+--------------+--------------+--------+-----+-----+-----+-----+------------+-----------+--------------+------+----+\n",
      "|    ID|   Full Street|      st label|borocode|LL_HN|LH_HN|RL_HN|RH_HN|House Number|HN Compound|   Street Name|County|Year|\n",
      "+------+--------------+--------------+--------+-----+-----+-----+-----+------------+-----------+--------------+------+----+\n",
      "| 23057|  ditmars blvd|  ditmars blvd|       4|   35|   35|   35|   35|          35|         19|  ditmars blvd|     4|2018|\n",
      "| 23057|  ditmars blvd|  ditmars blvd|       4|   35|   35|   35|   35|          35|          3|  ditmars blvd|     4|2018|\n",
      "| 23054|  ditmars blvd|  ditmars blvd|       4|   31|   31|   31|   31|          31|         12|  ditmars blvd|     4|2018|\n",
      "| 23053|  ditmars blvd|  ditmars blvd|       4|   29|   30|   29|   30|          29|         24|  ditmars blvd|     4|2016|\n",
      "| 23055|  ditmars blvd|  ditmars blvd|       4|   31|   32|   31|   32|          31|         12|  ditmars blvd|     4|2018|\n",
      "| 20466|  merrick blvd|  merrick blvd|       4|  119|  119|    0|    0|         119|         36|  merrick blvd|     4|2018|\n",
      "|159922|  merrick blvd|  merrick blvd|       4|  129|  129|    0|    0|         129|         32|  merrick blvd|     4|2017|\n",
      "| 20504|  merrick blvd|  merrick blvd|       4|  231|  231|    0|    0|         231|         34|  merrick blvd|     4|2018|\n",
      "| 20503|  merrick blvd|  merrick blvd|       4|  231|  231|    0|    0|         231|         34|  merrick blvd|     4|2018|\n",
      "| 20474|  merrick blvd|  merrick blvd|       4|  129|  129|    0|    0|         129|         32|  merrick blvd|     4|2017|\n",
      "| 20467|  merrick blvd|  merrick blvd|       4|  119|  121|    0|    0|         119|         36|  merrick blvd|     4|2018|\n",
      "|  8687|woodhaven blvd|woodhaven blvd|       4|   63|   63|    0|    0|          63|        106|woodhaven blvd|     4|2015|\n",
      "|  8684|woodhaven blvd|woodhaven blvd|       4|   63|   63|    0|    0|          63|        106|woodhaven blvd|     4|2015|\n",
      "|  8686|woodhaven blvd|woodhaven blvd|       4|   63|   63|    0|    0|          63|        106|woodhaven blvd|     4|2015|\n",
      "|  8685|woodhaven blvd|woodhaven blvd|       4|   63|   63|    0|    0|          63|        106|woodhaven blvd|     4|2015|\n",
      "+------+--------------+--------------+--------+-----+-----+-----+-----+------------+-----------+--------------+------+----+\n",
      "only showing top 15 rows\n",
      "\n"
     ]
    },
    {
     "data": {
      "text/plain": [
       "2790"
      ]
     },
     "execution_count": 20,
     "metadata": {},
     "output_type": "execute_result"
    }
   ],
   "source": [
    "df_match_869_10 = CL_frame.join(tkts_HN_odd,cond8 & cond6 & cond9 & cond10 )\n",
    "df_match_869_10.show(15)\n",
    "c = df_match_869_10.count()\n",
    "c"
   ]
  },
  {
   "cell_type": "code",
   "execution_count": 21,
   "metadata": {},
   "outputs": [
    {
     "name": "stdout",
     "output_type": "stream",
     "text": [
      "+-----+-----------------+------------+--------+-----+-----+-----+-----+------------+-----------+------------+------+----+\n",
      "|   ID|      Full Street|    st label|borocode|LL_HN|LH_HN|RL_HN|RH_HN|House Number|HN Compound| Street Name|County|Year|\n",
      "+-----+-----------------+------------+--------+-----+-----+-----+-----+------------+-----------+------------+------+----+\n",
      "|23057|     ditmars blvd|ditmars blvd|       4|   35|   35|   35|   35|          35|         19|ditmars blvd|     4|2018|\n",
      "|23057|     ditmars blvd|ditmars blvd|       4|   35|   35|   35|   35|          35|          3|ditmars blvd|     4|2018|\n",
      "|23054|     ditmars blvd|ditmars blvd|       4|   31|   31|   31|   31|          31|         12|ditmars blvd|     4|2018|\n",
      "|23053|     ditmars blvd|ditmars blvd|       4|   29|   30|   29|   30|          29|         24|ditmars blvd|     4|2016|\n",
      "|23055|     ditmars blvd|ditmars blvd|       4|   31|   32|   31|   32|          31|         12|ditmars blvd|     4|2018|\n",
      "|23057|        ditmars b|ditmars blvd|       4|   35|   35|   35|   35|          35|         19|ditmars blvd|     4|2018|\n",
      "|23057|        ditmars b|ditmars blvd|       4|   35|   35|   35|   35|          35|          3|ditmars blvd|     4|2018|\n",
      "|23053|ditmars boulevard|ditmars blvd|       4|   29|   30|   29|   30|          29|         24|ditmars blvd|     4|2016|\n",
      "|23053|        ditmars b|ditmars blvd|       4|   29|   30|   29|   30|          29|         24|ditmars blvd|     4|2016|\n",
      "|23054|        ditmars b|ditmars blvd|       4|   31|   31|   31|   31|          31|         12|ditmars blvd|     4|2018|\n",
      "|23053|          ditmars|ditmars blvd|       4|   29|   30|   29|   30|          29|         24|ditmars blvd|     4|2016|\n",
      "|23055|          ditmars|ditmars blvd|       4|   31|   32|   31|   32|          31|         12|ditmars blvd|     4|2018|\n",
      "|23057|          ditmars|ditmars blvd|       4|   35|   35|   35|   35|          35|         19|ditmars blvd|     4|2018|\n",
      "|23057|          ditmars|ditmars blvd|       4|   35|   35|   35|   35|          35|          3|ditmars blvd|     4|2018|\n",
      "|23055|ditmars boulevard|ditmars blvd|       4|   31|   32|   31|   32|          31|         12|ditmars blvd|     4|2018|\n",
      "+-----+-----------------+------------+--------+-----+-----+-----+-----+------------+-----------+------------+------+----+\n",
      "only showing top 15 rows\n",
      "\n"
     ]
    },
    {
     "data": {
      "text/plain": [
       "4103"
      ]
     },
     "execution_count": 21,
     "metadata": {},
     "output_type": "execute_result"
    }
   ],
   "source": [
    "df_match_879_10 = CL_frame.join(tkts_HN_odd,cond8 & cond7 & cond9 & cond10 )\n",
    "df_match_879_10.show(15)\n",
    "d = df_match_879_10.count()\n",
    "d"
   ]
  },
  {
   "cell_type": "markdown",
   "metadata": {},
   "source": [
    "# ~55million total, 35M matched"
   ]
  },
  {
   "cell_type": "code",
   "execution_count": 22,
   "metadata": {},
   "outputs": [
    {
     "data": {
      "text/plain": [
       "13062"
      ]
     },
     "execution_count": 22,
     "metadata": {},
     "output_type": "execute_result"
    }
   ],
   "source": [
    "total = a + b + c + d\n",
    "total\n"
   ]
  },
  {
   "cell_type": "code",
   "execution_count": 23,
   "metadata": {},
   "outputs": [],
   "source": [
    "grouped_even = df_match_3245.union(df_match_3145)\n",
    "grouped_odd = df_match_869_10.union(df_match_879_10)\n",
    "\n",
    "grouped = grouped_odd.union(grouped_even)"
   ]
  },
  {
   "cell_type": "code",
   "execution_count": 24,
   "metadata": {},
   "outputs": [
    {
     "name": "stdout",
     "output_type": "stream",
     "text": [
      "+------+--------------+--------------+--------+-----+-----+-----+-----+------------+-----------+--------------+------+----+\n",
      "|    ID|   Full Street|      st label|borocode|LL_HN|LH_HN|RL_HN|RH_HN|House Number|HN Compound|   Street Name|County|Year|\n",
      "+------+--------------+--------------+--------+-----+-----+-----+-----+------------+-----------+--------------+------+----+\n",
      "| 23057|  ditmars blvd|  ditmars blvd|       4|   35|   35|   35|   35|          35|         19|  ditmars blvd|     4|2018|\n",
      "| 23057|  ditmars blvd|  ditmars blvd|       4|   35|   35|   35|   35|          35|          3|  ditmars blvd|     4|2018|\n",
      "| 23054|  ditmars blvd|  ditmars blvd|       4|   31|   31|   31|   31|          31|         12|  ditmars blvd|     4|2018|\n",
      "| 23053|  ditmars blvd|  ditmars blvd|       4|   29|   30|   29|   30|          29|         24|  ditmars blvd|     4|2016|\n",
      "| 23055|  ditmars blvd|  ditmars blvd|       4|   31|   32|   31|   32|          31|         12|  ditmars blvd|     4|2018|\n",
      "| 20466|  merrick blvd|  merrick blvd|       4|  119|  119|    0|    0|         119|         36|  merrick blvd|     4|2018|\n",
      "|159922|  merrick blvd|  merrick blvd|       4|  129|  129|    0|    0|         129|         32|  merrick blvd|     4|2017|\n",
      "| 20504|  merrick blvd|  merrick blvd|       4|  231|  231|    0|    0|         231|         34|  merrick blvd|     4|2018|\n",
      "| 20503|  merrick blvd|  merrick blvd|       4|  231|  231|    0|    0|         231|         34|  merrick blvd|     4|2018|\n",
      "| 20474|  merrick blvd|  merrick blvd|       4|  129|  129|    0|    0|         129|         32|  merrick blvd|     4|2017|\n",
      "| 20467|  merrick blvd|  merrick blvd|       4|  119|  121|    0|    0|         119|         36|  merrick blvd|     4|2018|\n",
      "|  8687|woodhaven blvd|woodhaven blvd|       4|   63|   63|    0|    0|          63|        106|woodhaven blvd|     4|2015|\n",
      "|  8684|woodhaven blvd|woodhaven blvd|       4|   63|   63|    0|    0|          63|        106|woodhaven blvd|     4|2015|\n",
      "|  8686|woodhaven blvd|woodhaven blvd|       4|   63|   63|    0|    0|          63|        106|woodhaven blvd|     4|2015|\n",
      "|  8685|woodhaven blvd|woodhaven blvd|       4|   63|   63|    0|    0|          63|        106|woodhaven blvd|     4|2015|\n",
      "| 52095| castleton ave|  castleton av|       5|  541|  585|  540|  598|         581|       null| castleton ave|     5|2015|\n",
      "| 93970|     prince st|     prince st|       5|    1|   15|    2|   18|          15|       null|     prince st|     5|2018|\n",
      "| 49392|  richmond ave|   richmond av|       5| 3281| 3295| 3272| 3284|        3285|       null|  richmond ave|     5|2018|\n",
      "| 49495|  richmond ave|   richmond av|       5| 4159| 4211| 4158| 4216|        4203|       null|  richmond ave|     5|2018|\n",
      "| 49493|  richmond ave|   richmond av|       5| 4115| 4129| 4114| 4118|        4123|       null|  richmond ave|     5|2018|\n",
      "| 49435|  richmond ave|   richmond av|       5| 2577| 2699|    0|    0|        2655|       null|  richmond ave|     5|2017|\n",
      "| 49435|  richmond ave|   richmond av|       5| 2577| 2699|    0|    0|        2655|       null|  richmond ave|     5|2015|\n",
      "| 49435|  richmond ave|   richmond av|       5| 2577| 2699|    0|    0|        2655|       null|  richmond ave|     5|2018|\n",
      "| 49435|  richmond ave|   richmond av|       5| 2577| 2699|    0|    0|        2655|       null|  richmond ave|     5|2018|\n",
      "| 49435|  richmond ave|   richmond av|       5| 2577| 2699|    0|    0|        2655|       null|  richmond ave|     5|2015|\n",
      "|146417|  richmond ave|   richmond av|       5| 2223| 2381|    0|    0|        2259|       null|  richmond ave|     5|2018|\n",
      "| 49438|  richmond ave|   richmond av|       5| 2777| 2841|    0|    0|        2795|       null|  richmond ave|     5|2018|\n",
      "| 49438|  richmond ave|   richmond av|       5| 2777| 2841|    0|    0|        2795|       null|  richmond ave|     5|2016|\n",
      "| 49393|  richmond ave|   richmond av|       5| 3237| 3279| 3238| 3270|        3251|       null|  richmond ave|     5|2018|\n",
      "| 16252|      beach 20|   beach 20 st|       4|  301|  399|  300|  398|         311|       null|      beach 20|     4|2015|\n",
      "|105615|     gerson ct|     gerson ct|       4| 2927| 2999| 2926| 2998|        2935|       null|     gerson ct|     4|2018|\n",
      "| 98547|      canal st|    canal st w|       2|   75|  259|   36|  250|         155|       null|      canal st|     2|2016|\n",
      "| 91397|      marcy pl|      marcy pl|       2|  201|  211|  200|  210|         201|       null|      marcy pl|     2|2018|\n",
      "| 25627|      65th ave|         65 av|       4|  175|  179|  175|  178|         175|          2|      65th ave|     4|2017|\n",
      "| 13712|      70th ave|         70 av|       4|  107|  107|  107|  107|         107|         15|      70th ave|     4|2015|\n",
      "| 13722|      71st ave|         71 av|       4|  107|  107|  107|  107|         107|         29|      71st ave|     4|2015|\n",
      "|103399|    arcade ave|     arcade av|       4|  183|  183|  183|  183|         183|         11|    arcade ave|     4|2018|\n",
      "| 15575|    hylan blvd|    hylan blvd|       5| 2701| 2739|    0|    0|        2707|       null|    hylan blvd|     5|2018|\n",
      "| 52076| lafayette ave|  lafayette av|       5|  197|  229|  200|  228|         199|       null| lafayette ave|     5|2015|\n",
      "|183514|  third avenue|          3 av|       2|    0| 2713| 2672| 2708|        1201|       null|  third avenue|     2|2016|\n",
      "| 35983|  third avenue|          3 av|       2|    0| 3161|    0| 3142|        1201|       null|  third avenue|     2|2016|\n",
      "| 97456|       30th dr|         30 dr|       4|   23|   24|   23|   24|          23|         37|       30th dr|     4|2016|\n",
      "| 77183|        51 ave|         51 av|       4|  103|  103|  103|  103|         103|         19|        51 ave|     4|2018|\n",
      "| 26463|   62nd street|         62 st|       4|   39|   39|   39|   39|          39|         70|   62nd street|     4|2015|\n",
      "| 14913|   62nd street|         62 st|       4|   39|   39|   39|   39|          39|         70|   62nd street|     4|2015|\n",
      "| 80403|       44th rd|         44 rd|       4|   11|   20|   11|   20|          11|         38|       44th rd|     4|2015|\n",
      "| 80404|       44th rd|         44 rd|       4|   21|   22|   21|   22|          21|         44|       44th rd|     4|2018|\n",
      "| 92662|       44th st|         44 st|       4|   53|   53|   53|   53|          53|         20|       44th st|     4|2016|\n",
      "| 92667|       44th st|         44 st|       4|   55|   56|   55|   56|          55|         56|       44th st|     4|2016|\n",
      "| 81837|       44th st|         44 st|       4|   43|   44|   43|   44|          43|         47|       44th st|     4|2017|\n",
      "+------+--------------+--------------+--------+-----+-----+-----+-----+------------+-----------+--------------+------+----+\n",
      "only showing top 50 rows\n",
      "\n"
     ]
    }
   ],
   "source": [
    "grouped.show(50)"
   ]
  },
  {
   "cell_type": "code",
   "execution_count": 25,
   "metadata": {},
   "outputs": [
    {
     "data": {
      "text/plain": [
       "13062"
      ]
     },
     "execution_count": 25,
     "metadata": {},
     "output_type": "execute_result"
    }
   ],
   "source": [
    "grouped.count()"
   ]
  },
  {
   "cell_type": "code",
   "execution_count": 163,
   "metadata": {},
   "outputs": [
    {
     "name": "stdout",
     "output_type": "stream",
     "text": [
      "+------+----+-----+\n",
      "|    ID|Year|count|\n",
      "+------+----+-----+\n",
      "|  6365|2018|    2|\n",
      "| 30485|2018|    3|\n",
      "|  9328|2015|   14|\n",
      "| 33645|2018|    4|\n",
      "| 28412|2018|    4|\n",
      "| 63150|2018|    1|\n",
      "| 22631|2016|    2|\n",
      "|183561|2016|    1|\n",
      "| 33777|2017|    1|\n",
      "| 16522|2018|    1|\n",
      "| 31216|2018|    2|\n",
      "| 23145|2017|    2|\n",
      "|  5115|2016|   12|\n",
      "|101512|2018|    1|\n",
      "|  6493|2018|    1|\n",
      "|102832|2016|    2|\n",
      "| 93274|2018|    1|\n",
      "| 49359|2015|    1|\n",
      "| 80909|2016|    1|\n",
      "|122144|2015|    4|\n",
      "+------+----+-----+\n",
      "only showing top 20 rows\n",
      "\n"
     ]
    },
    {
     "data": {
      "text/plain": [
       "3678"
      ]
     },
     "execution_count": 163,
     "metadata": {},
     "output_type": "execute_result"
    }
   ],
   "source": [
    "group = grouped.groupby(['ID',\"Year\"]).count()\n",
    "group.show()\n",
    "group.count()"
   ]
  },
  {
   "cell_type": "markdown",
   "metadata": {},
   "source": [
    "# Summary Stats"
   ]
  },
  {
   "cell_type": "code",
   "execution_count": 162,
   "metadata": {},
   "outputs": [
    {
     "data": {
      "text/plain": [
       "3678"
      ]
     },
     "execution_count": 162,
     "metadata": {},
     "output_type": "execute_result"
    }
   ],
   "source": [
    "uniq_id = group.count()\n",
    "uniq_id"
   ]
  },
  {
   "cell_type": "code",
   "execution_count": 169,
   "metadata": {},
   "outputs": [],
   "source": [
    "counted = group.groupby(['ID']).pivot('Year').sum()"
   ]
  },
  {
   "cell_type": "code",
   "execution_count": 170,
   "metadata": {},
   "outputs": [
    {
     "name": "stdout",
     "output_type": "stream",
     "text": [
      "+------+----+----+----+----+----+\n",
      "|    ID|2015|2016|2017|2018|2019|\n",
      "+------+----+----+----+----+----+\n",
      "|163768|null|null|null|   7|null|\n",
      "| 29549|null|null|   2|null|null|\n",
      "| 92027|null|null|null|   4|null|\n",
      "| 22254|null|   4|null|null|null|\n",
      "| 16504|null|null|null|   1|null|\n",
      "| 93924|null|   1|null|null|null|\n",
      "| 84188|null|null|   1|null|null|\n",
      "|  6194|null|   5|null|null|null|\n",
      "|179486|   1|null|null|null|null|\n",
      "| 55371|null|null|null|   3|null|\n",
      "| 23318|   1|null|null|null|null|\n",
      "| 12529|null|null|null|   1|null|\n",
      "| 34635|null|null|   1|   1|null|\n",
      "|100227|null|   1|null|null|null|\n",
      "| 20158|   1|null|null|null|null|\n",
      "| 16974|null|null|null|   1|null|\n",
      "| 46870|   1|   1|null|null|null|\n",
      "|164905|null|null|   1|null|null|\n",
      "|  6366|null|null|null|   2|null|\n",
      "| 65979|  12|null|null|null|null|\n",
      "+------+----+----+----+----+----+\n",
      "only showing top 20 rows\n",
      "\n"
     ]
    }
   ],
   "source": [
    "counted.show()"
   ]
  },
  {
   "cell_type": "code",
   "execution_count": 171,
   "metadata": {},
   "outputs": [
    {
     "name": "stdout",
     "output_type": "stream",
     "text": [
      "+------+----+----+----+----+----+\n",
      "|    ID|2015|2016|2017|2018|2019|\n",
      "+------+----+----+----+----+----+\n",
      "|163768|   0|   0|   0|   7|   0|\n",
      "| 29549|   0|   0|   2|   0|   0|\n",
      "| 92027|   0|   0|   0|   4|   0|\n",
      "| 22254|   0|   4|   0|   0|   0|\n",
      "| 16504|   0|   0|   0|   1|   0|\n",
      "| 93924|   0|   1|   0|   0|   0|\n",
      "| 84188|   0|   0|   1|   0|   0|\n",
      "|  6194|   0|   5|   0|   0|   0|\n",
      "|179486|   1|   0|   0|   0|   0|\n",
      "| 55371|   0|   0|   0|   3|   0|\n",
      "| 23318|   1|   0|   0|   0|   0|\n",
      "| 12529|   0|   0|   0|   1|   0|\n",
      "| 34635|   0|   0|   1|   1|   0|\n",
      "|100227|   0|   1|   0|   0|   0|\n",
      "| 20158|   1|   0|   0|   0|   0|\n",
      "| 16974|   0|   0|   0|   1|   0|\n",
      "| 46870|   1|   1|   0|   0|   0|\n",
      "|164905|   0|   0|   1|   0|   0|\n",
      "|  6366|   0|   0|   0|   2|   0|\n",
      "| 65979|  12|   0|   0|   0|   0|\n",
      "+------+----+----+----+----+----+\n",
      "only showing top 20 rows\n",
      "\n"
     ]
    }
   ],
   "source": [
    "counted = counted.na.fill(0)\n",
    "counted.show()\n"
   ]
  },
  {
   "cell_type": "code",
   "execution_count": 172,
   "metadata": {},
   "outputs": [
    {
     "data": {
      "text/plain": [
       "[Row(sum(2015)=4378, sum(2016)=1155, sum(2017)=1324, sum(2018)=6194, sum(2019)=11)]"
      ]
     },
     "execution_count": 172,
     "metadata": {},
     "output_type": "execute_result"
    }
   ],
   "source": [
    "OLS = counted.groupBy().sum().collect()\n",
    "OLS"
   ]
  },
  {
   "cell_type": "markdown",
   "metadata": {},
   "source": [
    "### Sums per year"
   ]
  },
  {
   "cell_type": "code",
   "execution_count": 200,
   "metadata": {},
   "outputs": [
    {
     "name": "stdout",
     "output_type": "stream",
     "text": [
      "Year 2015, sum: 4378\n",
      "Year 2016, sum: 1155\n",
      "Year 2017, sum: 1324\n",
      "Year 2018, sum: 6194\n",
      "Year 2019, sum: 11\n"
     ]
    }
   ],
   "source": [
    "years = ['2015','2016','2017','2018','2019']\n",
    "for i in range(5):\n",
    "    print(f'Year {years[i]}, sum: {OLS[0][i]}')"
   ]
  },
  {
   "cell_type": "code",
   "execution_count": 182,
   "metadata": {},
   "outputs": [],
   "source": [
    "import statsmodels.api as sm"
   ]
  },
  {
   "cell_type": "code",
   "execution_count": 183,
   "metadata": {},
   "outputs": [],
   "source": [
    "y = [ i for i in OLS[0]]"
   ]
  },
  {
   "cell_type": "code",
   "execution_count": 189,
   "metadata": {},
   "outputs": [
    {
     "name": "stdout",
     "output_type": "stream",
     "text": [
      "                                 OLS Regression Results                                \n",
      "=======================================================================================\n",
      "Dep. Variable:                      y   R-squared (uncentered):                   0.277\n",
      "Model:                            OLS   Adj. R-squared (uncentered):              0.096\n",
      "Method:                 Least Squares   F-statistic:                              1.530\n",
      "Date:                Wed, 20 May 2020   Prob (F-statistic):                       0.284\n",
      "Time:                        02:58:41   Log-Likelihood:                         -47.062\n",
      "No. Observations:                   5   AIC:                                      96.12\n",
      "Df Residuals:                       4   BIC:                                      95.73\n",
      "Df Model:                           1                                                  \n",
      "Covariance Type:            nonrobust                                                  \n",
      "==============================================================================\n",
      "                 coef    std err          t      P>|t|      [0.025      0.975]\n",
      "------------------------------------------------------------------------------\n",
      "x1           747.6333    604.504      1.237      0.284    -930.738    2426.005\n",
      "==============================================================================\n",
      "Omnibus:                          nan   Durbin-Watson:                   1.850\n",
      "Prob(Omnibus):                    nan   Jarque-Bera (JB):                0.404\n",
      "Skew:                          -0.134   Prob(JB):                        0.817\n",
      "Kurtosis:                       1.634   Cond. No.                         1.00\n",
      "==============================================================================\n",
      "\n",
      "Warnings:\n",
      "[1] Standard Errors assume that the covariance matrix of the errors is correctly specified.\n"
     ]
    },
    {
     "name": "stderr",
     "output_type": "stream",
     "text": [
      "/Users/ronaldadomako/anaconda3/lib/python3.7/site-packages/statsmodels/stats/stattools.py:71: ValueWarning: omni_normtest is not valid with less than 8 observations; 5 samples were given.\n",
      "  \"samples were given.\" % int(n), ValueWarning)\n"
     ]
    }
   ],
   "source": [
    "model = sm.OLS(y, list(range(5)))\n",
    "results = model.fit()\n",
    "print(results.summary())"
   ]
  },
  {
   "cell_type": "code",
   "execution_count": 194,
   "metadata": {},
   "outputs": [
    {
     "data": {
      "text/plain": [
       "747.6333333333333"
      ]
     },
     "execution_count": 194,
     "metadata": {},
     "output_type": "execute_result"
    }
   ],
   "source": [
    "results.params[0]"
   ]
  },
  {
   "cell_type": "markdown",
   "metadata": {},
   "source": [
    "# Match percentage/ 100%"
   ]
  },
  {
   "cell_type": "code",
   "execution_count": 204,
   "metadata": {},
   "outputs": [
    {
     "data": {
      "text/plain": [
       "0.52248"
      ]
     },
     "execution_count": 204,
     "metadata": {},
     "output_type": "execute_result"
    }
   ],
   "source": [
    "total/ 25000"
   ]
  },
  {
   "cell_type": "code",
   "execution_count": null,
   "metadata": {},
   "outputs": [],
   "source": [
    "OL"
   ]
  }
 ],
 "metadata": {
  "kernelspec": {
   "display_name": "Python 3",
   "language": "python",
   "name": "python3"
  },
  "language_info": {
   "codemirror_mode": {
    "name": "ipython",
    "version": 3
   },
   "file_extension": ".py",
   "mimetype": "text/x-python",
   "name": "python",
   "nbconvert_exporter": "python",
   "pygments_lexer": "ipython3",
   "version": "3.7.6"
  }
 },
 "nbformat": 4,
 "nbformat_minor": 4
}
