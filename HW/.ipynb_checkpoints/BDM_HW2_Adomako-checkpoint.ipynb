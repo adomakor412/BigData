{
 "cells": [
  {
   "cell_type": "markdown",
   "metadata": {},
   "source": [
    "# Homework 1 - Streaming (15 pts)\n",
    "\n",
    "### DUE: 02/18/2020 at 5:30pm\n",
    "\n",
    "This homework is for practicing Python’s *generators* and the design of *streaming* algorithms in general. We’re going to use the **taxi_events.csv** and **taxi_trips.csv** data sets. Both of them are available on the class resources under *Data Sets* section. You are required to turn in this notebook with all the parts filled in place of <###>. Your notebook must be named BDM\\_HW1\\_LastName.ipynb."
   ]
  },
  {
   "cell_type": "markdown",
   "metadata": {},
   "source": [
    "## Task 1 (8 points)\n",
    "\n",
    "Your task is to **compute the maximum number of active taxi cabs** that were hired at any point in time. This the same as computing the maximum number of taxi cabs that have passengers. The input data set is **taxi_events.csv**, which logged all pick-up and drop-off events for all taxi trips. The description of the fields in this file is as follows:\n",
    "\n",
    "|Column name|Description|\n",
    "|--|--|\n",
    "|time |The timestamp of the event. All events are sorted increasingly by their timestamps. |\n",
    "|vehicle_id |The unique ID of the taxi vehicle involved in this event. |\n",
    "|event |A string of either *\"pickup\"* or *\"dropoff\"* for describing the drop-off or pick-up event, respectively. |\n",
    "\n",
    "For example, let's assume that on *Feb-01-2015*, there was a taxi that picked up a passenger at midnight and dropped her off at 14 minutes past midnight. If the taxi cab has the Vehicle ID of *V102*, then you should see two events being logged in this data set as:\n",
    "\n",
    "<pre>\n",
    "...\n",
    "2015-02-01 00:00:00+00,V102,pickup\n",
    "...\n",
    "2015-02-01 00:14:00+00,V102,dropoff\n",
    "...\n",
    "</pre>\n",
    "\n",
    "You are given the above data set in a streaming fashion (reading in row by row), and must design a streaming algorithm that uses the least possible additional memory to compute the maximum number of hired taxi cabs at any point in time. Again, this is equivalent to having a virtual dispatcher, who repeatedly ask every second *\"how many taxis are being hired (having passengers) at the moment?\"*, and then log the maximum number during the entire period.\n",
    "\n",
    "Please modify the code snippet below to complete this task. Your code should only output a single number, which is the maximum number of hired taxi cabs. Of course, you can add additional initialization codes outside of the for loop as needed. Additional, please provide a brief rationale and/or justification for your design after the code."
   ]
  },
  {
   "cell_type": "code",
   "execution_count": null,
   "metadata": {},
   "outputs": [],
   "source": [
    "import csv\n",
    "class MRTask5(MRJob):\n",
    "    \n",
    "    def mapper1(self, k1,  v1):\n",
    "        if v1['start_station_name'] < v1['end_station_name']:\n",
    "            yield ((v1['start_station_name'] ,v1['end_station_name']),1)\n",
    "        else:\n",
    "            yield ((v1['end_station_name'],v1['start_station_name']),1)\n",
    "        #\n",
    "    \n",
    "    def reducer1(self, k2, v2s):\n",
    "        yield k2, sum(v2s)\n",
    "\n",
    "    def mapper2(self,k1,v1):\n",
    "        gender, station = k1\n",
    "        yield (gender, (station,v1))\n",
    "        \n",
    "    def reducer2(self, k2, v2s):\n",
    "        gender = ('Unkonwns', 'Male','Female')\n",
    "        #yield (k2, len(v2s),sum(v2s))\n",
    "        yield gender[int(k2)], max(v2s, key=lambda x:x[1])#can use for loop to run multiple times\n",
    "        \n",
    "    def steps(self):\n",
    "        return [\n",
    "            MRStep(mapper=self.mapper1, reducer=self.reducer1),\n",
    "            MRStep(mapper=self.mapper2, reducer=self.reducer2)\n",
    "        ]\n",
    "with open(file, 'r') as fi:\n",
    "    reader = csv.DictReader(fi)\n",
    "    output5 = list(mr.runJob(enumerate(reader),MRTask5(args=[])))\n",
    "\n",
    "output5"
   ]
  }
 ],
 "metadata": {
  "kernelspec": {
   "display_name": "Python 3",
   "language": "python",
   "name": "python3"
  },
  "language_info": {
   "codemirror_mode": {
    "name": "ipython",
    "version": 3
   },
   "file_extension": ".py",
   "mimetype": "text/x-python",
   "name": "python",
   "nbconvert_exporter": "python",
   "pygments_lexer": "ipython3",
   "version": "3.8.1"
  }
 },
 "nbformat": 4,
 "nbformat_minor": 1
}
