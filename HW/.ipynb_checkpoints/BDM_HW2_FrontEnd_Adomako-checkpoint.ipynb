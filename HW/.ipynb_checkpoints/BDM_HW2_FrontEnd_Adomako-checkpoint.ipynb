{
 "cells": [
  {
   "cell_type": "code",
   "execution_count": null,
   "metadata": {},
   "outputs": [],
   "source": [
    "import csv\n",
    "class MRTask5(MRJob):\n",
    "    \n",
    "    def mapper1(self, k1,  v1):\n",
    "        if v1['start_station_name'] < v1['end_station_name']:\n",
    "            yield ((v1['start_station_name'] ,v1['end_station_name']),1)\n",
    "        else:\n",
    "            yield ((v1['end_station_name'],v1['start_station_name']),1)\n",
    "        #\n",
    "    \n",
    "    def reducer1(self, k2, v2s):\n",
    "        yield k2, sum(v2s)\n",
    "\n",
    "    def mapper2(self,k1,v1):\n",
    "        gender, station = k1\n",
    "        yield (gender, (station,v1))\n",
    "        \n",
    "    def reducer2(self, k2, v2s):\n",
    "        gender = ('Unkonwns', 'Male','Female')\n",
    "        #yield (k2, len(v2s),sum(v2s))\n",
    "        yield gender[int(k2)], max(v2s, key=lambda x:x[1])#can use for loop to run multiple times\n",
    "        \n",
    "    def steps(self):\n",
    "        return [\n",
    "            MRStep(mapper=self.mapper1, reducer=self.reducer1),\n",
    "            MRStep(mapper=self.mapper2, reducer=self.reducer2)\n",
    "        ]\n",
    "with open(file, 'r') as fi:\n",
    "    reader = csv.DictReader(fi)\n",
    "    output5 = list(mr.runJob(enumerate(reader),MRTask5(args=[])))\n",
    "\n",
    "output5"
   ]
  },
  {
   "cell_type": "code",
   "execution_count": null,
   "metadata": {},
   "outputs": [],
   "source": [
    "lastId = None\n",
    "currentSet = None\n",
    "customers = {}\n",
    "revenues = {}\n",
    "\n"
   ]
  }
 ],
 "metadata": {
  "kernelspec": {
   "display_name": "Python 3",
   "language": "python",
   "name": "python3"
  },
  "language_info": {
   "codemirror_mode": {
    "name": "ipython",
    "version": 3
   },
   "file_extension": ".py",
   "mimetype": "text/x-python",
   "name": "python",
   "nbconvert_exporter": "python",
   "pygments_lexer": "ipython3",
   "version": "3.8.1"
  }
 },
 "nbformat": 4,
 "nbformat_minor": 1
}
