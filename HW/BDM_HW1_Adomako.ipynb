{
 "cells": [
  {
   "cell_type": "markdown",
   "metadata": {},
   "source": [
    "# Homework 1 - Streaming (15 pts)\n",
    "\n",
    "### DUE: 02/18/2020 at 5:30pm\n",
    "\n",
    "This homework is for practicing Python’s *generators* and the design of *streaming* algorithms in general. We’re going to use the **taxi_events.csv** and **taxi_trips.csv** data sets. Both of them are available on the class resources under *Data Sets* section. You are required to turn in this notebook with all the parts filled in place of <###>. Your notebook must be named BDM\\_HW1\\_LastName.ipynb."
   ]
  },
  {
   "cell_type": "markdown",
   "metadata": {},
   "source": [
    "## Task 1 (8 points)\n",
    "\n",
    "Your task is to **compute the maximum number of active taxi cabs** that were hired at any point in time. This the same as computing the maximum number of taxi cabs that have passengers. The input data set is **taxi_events.csv**, which logged all pick-up and drop-off events for all taxi trips. The description of the fields in this file is as follows:\n",
    "\n",
    "|Column name|Description|\n",
    "|--|--|\n",
    "|time |The timestamp of the event. All events are sorted increasingly by their timestamps. |\n",
    "|vehicle_id |The unique ID of the taxi vehicle involved in this event. |\n",
    "|event |A string of either *\"pickup\"* or *\"dropoff\"* for describing the drop-off or pick-up event, respectively. |\n",
    "\n",
    "For example, let's assume that on *Feb-01-2015*, there was a taxi that picked up a passenger at midnight and dropped her off at 14 minutes past midnight. If the taxi cab has the Vehicle ID of *V102*, then you should see two events being logged in this data set as:\n",
    "\n",
    "<pre>\n",
    "...\n",
    "2015-02-01 00:00:00+00,V102,pickup\n",
    "...\n",
    "2015-02-01 00:14:00+00,V102,dropoff\n",
    "...\n",
    "</pre>\n",
    "\n",
    "You are given the above data set in a streaming fashion (reading in row by row), and must design a streaming algorithm that uses the least possible additional memory to compute the maximum number of hired taxi cabs at any point in time. Again, this is equivalent to having a virtual dispatcher, who repeatedly ask every second *\"how many taxis are being hired (having passengers) at the moment?\"*, and then log the maximum number during the entire period.\n",
    "\n",
    "Please modify the code snippet below to complete this task. Your code should only output a single number, which is the maximum number of hired taxi cabs. Of course, you can add additional initialization codes outside of the for loop as needed. Additional, please provide a brief rationale and/or justification for your design after the code."
   ]
  },
  {
   "cell_type": "code",
   "execution_count": 163,
   "metadata": {},
   "outputs": [
    {
     "name": "stdout",
     "output_type": "stream",
     "text": [
      "{datetime.datetime(2015, 1, 31, 23, 0): 92400}\n"
     ]
    }
   ],
   "source": [
    "import csv\n",
    "import datetime\n",
    "from datetime import datetime as dt\n",
    "import time\n",
    "\n",
    "hr=0\n",
    "def csvRows(filename):\n",
    "    with open(filename, 'r') as fi:\n",
    "        reader = csv.DictReader(fi)\n",
    "        for row in reader:\n",
    "            yield row\n",
    "\n",
    "maxHiredCabs = {}\n",
    "\n",
    "iterable = csvRows('taxi_events.csv')\n",
    "threshold = datetime.timedelta(minutes=60)\n",
    "delta = threshold\n",
    "for row in iterable:\n",
    "    t = time.strptime(row['time'],'%Y-%m-%d %H:%M:%S+%f')\n",
    "    yy = t.tm_year\n",
    "    mm = t.tm_mon\n",
    "    dd = t.tm_mday\n",
    "    H = t.tm_hour\n",
    "    M = t.tm_min\n",
    "    S = t.tm_sec\n",
    "    current_t = dt(yy,mm,dd,H,M,S)\n",
    "    diff = current_t-delta \n",
    "    #datetime = datetime - timedelta\n",
    "    #datetime - datetime = timedelta\n",
    "    if len(maxHiredCabs)==0: \n",
    "        duration =  current_t\n",
    "    else:\n",
    "        \n",
    "        \n",
    "    maxHiredCabs[duration]=maxHiredCabs.get(duration,0)+1\n",
    "    \n",
    "large = max(maxHiredCabs.values())\n",
    "keyTime = list(maxHiredCabs.keys())[list(maxHiredCabs.values()).index(large)]\n",
    "\n",
    "#print(max(maxHiredCabs.values()))\n",
    "#print(list(maxHiredCabs.keys())[list(maxHiredCabs.values()).index(large)])\n",
    "\n",
    "'''The max value without accounting for pickup/ dropoff is 57'''\n",
    "'''Count unique vehicle_ids'''\n",
    "\n",
    "uniqueHiredCabs = {}\n",
    "for event in csvRows('taxi_events.csv'):\n",
    "    time = event['time']\n",
    "    if time==keyTime:\n",
    "        vehicle = event['vehicle_id']\n",
    "        uniqueHiredCabs[vehicle]=uniqueHiredCabs.get(vehicle,0)+1\n",
    "\n",
    "#print(uniqueHiredCabs)\n",
    "\n",
    "count = len(uniqueHiredCabs)\n",
    "\n",
    "print(large)"
   ]
  },
  {
   "cell_type": "markdown",
   "metadata": {},
   "source": [
    "#### RATIONALE AND JUSTIFICATION\n",
    "\n",
    "*We create a dictionary with time as the unique keys and a running count for how many events are called during that hour. We then take the max value.\n",
    "For robustness, we consider the case where a single cab can do multiple pickups and dropoffs within an hour, so we look for unique vehicle ids within this hour*"
   ]
  },
  {
   "cell_type": "markdown",
   "metadata": {},
   "source": [
    "## Task 2 (7 points)\n",
    "\n",
    "The objective of this task is identical to Task 1's but you are asked to use the full **taxi_trips.csv** data set instead of the events. The main difference (and challenge) is that both pick-up and drop-off event for each trip is now presented in a single record, thus, the drop-off events are not sorted by their timestamps. You are again asked to do this in a streaming fashion that needs to minimize the amount of memory usage. Please modify the code below accordingly, and also with a brief explaination of the solution.\n",
    "\n",
    "Below is the description of the **taxi_trips.csv** file, which is sorted only by the pick-up time:\n",
    "\n",
    "|Column name|Description|\n",
    "|--|--|\n",
    "|trip_duration |The duration of the trip in seconds. This field is for your convenience since it can be derived also from the pick-up and drop-off times. |\n",
    "|pickup_time |The timestamp of the pick-up of the trip. All trip records are sorted increasingly by their pick-up times. |\n",
    "|dropoff_time |The timestamp of the drop-off event. |\n",
    "|vehicle_id |The unique ID of the taxi vehicle involved in this trip record. |\n",
    "\n"
   ]
  },
  {
   "cell_type": "code",
   "execution_count": 64,
   "metadata": {},
   "outputs": [
    {
     "name": "stdout",
     "output_type": "stream",
     "text": [
      "57\n"
     ]
    }
   ],
   "source": [
    "import csv\n",
    "\n",
    "def csvRows(filename):\n",
    "    with open(filename, 'r') as fi:\n",
    "        reader = csv.DictReader(fi)\n",
    "        for row in reader:\n",
    "            yield row\n",
    "\n",
    "maxHiredCabs = {}\n",
    "for row in csvRows('taxi_trips.csv'):\n",
    "    pickup = row['pickup_time']\n",
    "    dropoff = row['dropoff_time']\n",
    "    vehicle = row['vehicle_id']\n",
    "    #print (row)\n",
    "    duration = row['trip_duration']\n",
    "    if int(duration) > 60:\n",
    "        maxHiredCabs[pickup]=maxHiredCabs.get(pickup,0)+1\n",
    "        maxHiredCabs[dropoff]=maxHiredCabs.get(dropoff,0)+1\n",
    "        \n",
    "    \n",
    "large = max(maxHiredCabs.values())\n",
    "keyTime = list(maxHiredCabs.keys())[list(maxHiredCabs.values()).index(large)]\n",
    "    \n",
    "#print(maxHiredCabs)\n",
    "print(large)"
   ]
  },
  {
   "cell_type": "markdown",
   "metadata": {},
   "source": [
    "#### RATIONALE AND JUSTIFICATION\n",
    "\n",
    "*In this case, we have to make sure we can add a cab regardless of its pickup or dropoff time. They are separate events.  The if statement is for glitches within 1 minute as that is the chosen time increment from Problem 1: namely, when a ride gets cancelled but picks someone else up right away.  This avoids double counting.*"
   ]
  },
  {
   "cell_type": "code",
   "execution_count": 56,
   "metadata": {},
   "outputs": [],
   "source": [
    "#from datetime import datetime as dt\n",
    "import time\n",
    "import datetime\n",
    "from datetime import datetime as dt, timedelta\n",
    "s='2015-02-05 08:52:00+00'\n",
    "p = '2015-02-05 08:52:00'"
   ]
  },
  {
   "cell_type": "code",
   "execution_count": 42,
   "metadata": {},
   "outputs": [
    {
     "data": {
      "text/plain": [
       "time.struct_time(tm_year=2015, tm_mon=2, tm_mday=5, tm_hour=8, tm_min=52, tm_sec=0, tm_wday=3, tm_yday=36, tm_isdst=-1)"
      ]
     },
     "execution_count": 42,
     "metadata": {},
     "output_type": "execute_result"
    }
   ],
   "source": [
    "t= time.strptime(s,'%Y-%m-%d %H:%M:%S+%f')\n",
    "t_prime =time.strptime(p,'%Y-%m-%d %H:%M:%S')\n",
    "t"
   ]
  },
  {
   "cell_type": "code",
   "execution_count": 111,
   "metadata": {},
   "outputs": [],
   "source": [
    "dt_comp = (t.tm_year,t.tm_mon,t.tm_mday,t.tm_hour,t.tm_min,t.tm_sec)"
   ]
  },
  {
   "cell_type": "code",
   "execution_count": 114,
   "metadata": {},
   "outputs": [],
   "source": [
    "a=dt(t.tm_year,t.tm_mon,t.tm_mday,t.tm_hour,t.tm_min,t.tm_sec)"
   ]
  },
  {
   "cell_type": "code",
   "execution_count": 116,
   "metadata": {},
   "outputs": [
    {
     "data": {
      "text/plain": [
       "datetime.timedelta(0)"
      ]
     },
     "execution_count": 116,
     "metadata": {},
     "output_type": "execute_result"
    }
   ],
   "source": [
    "dt(t.tm_year,t.tm_mon,t.tm_mday,t.tm_hour,t.tm_min,t.tm_sec)-dt(t.tm_year,t.tm_mon,t.tm_mday,t.tm_hour,t.tm_min,t.tm_sec)"
   ]
  },
  {
   "cell_type": "code",
   "execution_count": 155,
   "metadata": {},
   "outputs": [
    {
     "data": {
      "text/plain": [
       "(datetime.timedelta, datetime.datetime)"
      ]
     },
     "execution_count": 155,
     "metadata": {},
     "output_type": "execute_result"
    }
   ],
   "source": [
    "b = datetime.datetime(2015,8,25,0,0,0,0)\n",
    "a = datetime.datetime(2015,8,25,0,0,0,0)\n",
    "c=a-datetime.timedelta(minutes=60)\n",
    "d= a-b\n",
    "d<datetime.timedelta(minutes=60)\n",
    "type(d),type(c)"
   ]
  },
  {
   "cell_type": "code",
   "execution_count": 123,
   "metadata": {},
   "outputs": [
    {
     "data": {
      "text/plain": [
       "datetime.timedelta(seconds=3660)"
      ]
     },
     "execution_count": 123,
     "metadata": {},
     "output_type": "execute_result"
    }
   ],
   "source": [
    "datetime.timedelta(minutes=61)\n"
   ]
  },
  {
   "cell_type": "code",
   "execution_count": 124,
   "metadata": {},
   "outputs": [],
   "source": [
    "datetime.datetime?"
   ]
  },
  {
   "cell_type": "code",
   "execution_count": 135,
   "metadata": {},
   "outputs": [
    {
     "data": {
      "text/plain": [
       "{0: 1}"
      ]
     },
     "execution_count": 135,
     "metadata": {},
     "output_type": "execute_result"
    }
   ],
   "source": [
    "maxHiredCabs = {}\n",
    "maxHiredCabs[0]=maxHiredCabs.get(0,0)+1\n",
    "maxHiredCabs "
   ]
  },
  {
   "cell_type": "code",
   "execution_count": 140,
   "metadata": {},
   "outputs": [],
   "source": [
    "timedelta?"
   ]
  },
  {
   "cell_type": "code",
   "execution_count": 149,
   "metadata": {},
   "outputs": [
    {
     "data": {
      "text/plain": [
       "datetime.datetime(1, 1, 1, 0, 0)"
      ]
     },
     "execution_count": 149,
     "metadata": {},
     "output_type": "execute_result"
    }
   ],
   "source": [
    "c.min"
   ]
  },
  {
   "cell_type": "code",
   "execution_count": 153,
   "metadata": {},
   "outputs": [
    {
     "ename": "ValueError",
     "evalue": "year 0 is out of range",
     "output_type": "error",
     "traceback": [
      "\u001b[0;31m---------------------------------------------------------------------------\u001b[0m",
      "\u001b[0;31mValueError\u001b[0m                                Traceback (most recent call last)",
      "\u001b[0;32m<ipython-input-153-cec37a87768b>\u001b[0m in \u001b[0;36m<module>\u001b[0;34m\u001b[0m\n\u001b[0;32m----> 1\u001b[0;31m \u001b[0mdatetime\u001b[0m\u001b[0;34m.\u001b[0m\u001b[0mdatetime\u001b[0m\u001b[0;34m(\u001b[0m\u001b[0;36m0\u001b[0m\u001b[0;34m,\u001b[0m\u001b[0;36m0\u001b[0m\u001b[0;34m,\u001b[0m\u001b[0;36m0\u001b[0m\u001b[0;34m,\u001b[0m\u001b[0;36m0\u001b[0m\u001b[0;34m)\u001b[0m\u001b[0;34m\u001b[0m\u001b[0;34m\u001b[0m\u001b[0m\n\u001b[0m",
      "\u001b[0;31mValueError\u001b[0m: year 0 is out of range"
     ]
    }
   ],
   "source": []
  },
  {
   "cell_type": "code",
   "execution_count": null,
   "metadata": {},
   "outputs": [],
   "source": []
  }
 ],
 "metadata": {
  "kernelspec": {
   "display_name": "Python 3",
   "language": "python",
   "name": "python3"
  },
  "language_info": {
   "codemirror_mode": {
    "name": "ipython",
    "version": 3
   },
   "file_extension": ".py",
   "mimetype": "text/x-python",
   "name": "python",
   "nbconvert_exporter": "python",
   "pygments_lexer": "ipython3",
   "version": "3.7.6"
  }
 },
 "nbformat": 4,
 "nbformat_minor": 1
}
