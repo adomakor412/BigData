{
 "cells": [
  {
   "cell_type": "code",
   "execution_count": null,
   "metadata": {},
   "outputs": [],
   "source": [
    "import csv\n",
    "class MRTask5(MRJob):\n",
    "    \n",
    "    def mapper1(self, k1,  v1):\n",
    "        if v1['start_station_name'] < v1['end_station_name']:\n",
    "            yield ((v1['start_station_name'] ,v1['end_station_name']),1)\n",
    "        else:\n",
    "            yield ((v1['end_station_name'],v1['start_station_name']),1)\n",
    "        #\n",
    "    \n",
    "    def reducer1(self, k2, v2s):\n",
    "        yield k2, sum(v2s)\n",
    "\n",
    "    def mapper2(self,k1,v1):\n",
    "        gender, station = k1\n",
    "        yield (gender, (station,v1))\n",
    "        \n",
    "    def reducer2(self, k2, v2s):\n",
    "        gender = ('Unkonwns', 'Male','Female')\n",
    "        #yield (k2, len(v2s),sum(v2s))\n",
    "        yield gender[int(k2)], max(v2s, key=lambda x:x[1])#can use for loop to run multiple times\n",
    "        \n",
    "    def steps(self):\n",
    "        return [\n",
    "            MRStep(mapper=self.mapper1, reducer=self.reducer1),\n",
    "            MRStep(mapper=self.mapper2, reducer=self.reducer2)\n",
    "        ]\n",
    "with open(file, 'r') as fi:\n",
    "    reader = csv.DictReader(fi)\n",
    "    output5 = list(mr.runJob(enumerate(reader),MRTask5(args=[])))\n",
    "\n",
    "output5"
   ]
  },
  {
   "cell_type": "code",
   "execution_count": 3,
   "metadata": {},
   "outputs": [
    {
     "ename": "AttributeError",
     "evalue": "'NoneType' object has no attribute 'add'",
     "output_type": "error",
     "traceback": [
      "\u001b[0;31m---------------------------------------------------------------------------\u001b[0m",
      "\u001b[0;31mAttributeError\u001b[0m                            Traceback (most recent call last)",
      "\u001b[0;32m<ipython-input-3-368bbcaa0ca7>\u001b[0m in \u001b[0;36m<module>\u001b[0;34m\u001b[0m\n\u001b[1;32m     17\u001b[0m                 \u001b[0mlastId\u001b[0m \u001b[0;34m=\u001b[0m \u001b[0md\u001b[0m\u001b[0;34m[\u001b[0m\u001b[0;36m0\u001b[0m\u001b[0;34m]\u001b[0m\u001b[0;34m\u001b[0m\u001b[0;34m\u001b[0m\u001b[0m\n\u001b[1;32m     18\u001b[0m                 \u001b[0mcurrentSet\u001b[0m \u001b[0;34m=\u001b[0m \u001b[0mset\u001b[0m\u001b[0;34m(\u001b[0m\u001b[0;34m)\u001b[0m\u001b[0;34m\u001b[0m\u001b[0;34m\u001b[0m\u001b[0m\n\u001b[0;32m---> 19\u001b[0;31m             \u001b[0mcurrentSet\u001b[0m\u001b[0;34m.\u001b[0m\u001b[0madd\u001b[0m\u001b[0;34m(\u001b[0m\u001b[0md\u001b[0m\u001b[0;34m[\u001b[0m\u001b[0;36m3\u001b[0m\u001b[0;34m]\u001b[0m\u001b[0;34m)\u001b[0m\u001b[0;34m\u001b[0m\u001b[0;34m\u001b[0m\u001b[0m\n\u001b[0m\u001b[1;32m     20\u001b[0m             \u001b[0mrevenues\u001b[0m\u001b[0;34m[\u001b[0m\u001b[0md\u001b[0m\u001b[0;34m[\u001b[0m\u001b[0;36m3\u001b[0m\u001b[0;34m]\u001b[0m\u001b[0;34m]\u001b[0m\u001b[0;34m=\u001b[0m\u001b[0mrevenues\u001b[0m\u001b[0;34m.\u001b[0m\u001b[0mget\u001b[0m\u001b[0;34m(\u001b[0m\u001b[0md\u001b[0m\u001b[0;34m[\u001b[0m\u001b[0;36m3\u001b[0m\u001b[0;34m]\u001b[0m\u001b[0;34m,\u001b[0m\u001b[0;36m0\u001b[0m\u001b[0;34m)\u001b[0m\u001b[0;34m+\u001b[0m\u001b[0mfloat\u001b[0m\u001b[0;34m(\u001b[0m\u001b[0md\u001b[0m\u001b[0;34m[\u001b[0m\u001b[0;36m4\u001b[0m\u001b[0;34m]\u001b[0m\u001b[0;34m)\u001b[0m\u001b[0;34m\u001b[0m\u001b[0;34m\u001b[0m\u001b[0m\n\u001b[1;32m     21\u001b[0m \u001b[0;34m\u001b[0m\u001b[0m\n",
      "\u001b[0;31mAttributeError\u001b[0m: 'NoneType' object has no attribute 'add'"
     ]
    }
   ],
   "source": [
    "import csv\n",
    "\n",
    "lastId = None\n",
    "currentSet = None\n",
    "customers = {}\n",
    "revenues = {}\n",
    "\n",
    "file = '../Files/sale.csv'\n",
    "\n",
    "with open(file,'r') as fi:\n",
    "    reader = csv.reader(fi)\n",
    "    for d in reader:\n",
    "        if lastId!=d[0]:\n",
    "            if lastId!=None:\n",
    "                for p in currentSet:\n",
    "                    customers[p]=customers.get(p,0)+1\n",
    "                lastId = d[0]\n",
    "                currentSet = set()\n",
    "            currentSet.add(d[3])\n",
    "            revenues[d[3]]=revenues.get(d[3],0)+float(d[4])\n",
    "            \n",
    "if lastId!=None:\n",
    "    for p in currentSet:\n",
    "        customers[p] = customers.get(p,0) + 1\n",
    "            "
   ]
  },
  {
   "cell_type": "code",
   "execution_count": null,
   "metadata": {},
   "outputs": [],
   "source": []
  }
 ],
 "metadata": {
  "kernelspec": {
   "display_name": "Python 3",
   "language": "python",
   "name": "python3"
  },
  "language_info": {
   "codemirror_mode": {
    "name": "ipython",
    "version": 3
   },
   "file_extension": ".py",
   "mimetype": "text/x-python",
   "name": "python",
   "nbconvert_exporter": "python",
   "pygments_lexer": "ipython3",
   "version": "3.8.1"
  }
 },
 "nbformat": 4,
 "nbformat_minor": 1
}
