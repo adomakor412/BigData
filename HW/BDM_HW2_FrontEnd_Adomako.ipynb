{
 "cells": [
  {
   "cell_type": "code",
   "execution_count": 56,
   "metadata": {},
   "outputs": [],
   "source": [
    "import csv\n",
    "from mrjob.job import MRJob, MRStep\n",
    "import mapreduce as mr"
   ]
  },
  {
   "cell_type": "code",
   "execution_count": 53,
   "metadata": {},
   "outputs": [
    {
     "data": {
      "text/plain": [
       "[('P02291', 16, 1181.97),\n",
       " ('P19498', 17, 989.99),\n",
       " ('P32565', 17, 1006.09),\n",
       " ('P33162', 18, 1210.92),\n",
       " ('P39328', 17, 1129.01),\n",
       " ('P58225', 17, 1349.82),\n",
       " ('P61235', 18, 959.02),\n",
       " ('P76615', 18, 1087.96),\n",
       " ('P82222', 17, 950.05),\n",
       " ('P92449', 14, 966.17)]"
      ]
     },
     "execution_count": 53,
     "metadata": {},
     "output_type": "execute_result"
    }
   ],
   "source": [
    "### import csv\n",
    "\n",
    "class MRTask5(MRJob):\n",
    "    \n",
    "    def mapper1(self, _,  v1):#k1 not defined becuase it is index-like wrt enumerate reader\n",
    "        pID = v1['Product ID']\n",
    "        cID = v1['Customer ID']\n",
    "        iCost = v1['Item Cost']\n",
    "        \n",
    "        yield (pID, cID), float(iCost) #key, value ... group the cost\n",
    "    \n",
    "    def reducer1(self, IDs, iCosts):#KEYS ARE UNIQUE, effectively quantity sum on values\n",
    "        yield IDs, sum(iCosts)\n",
    "\n",
    "    def mapper2(self,IDs,iCosts):\n",
    "        pIDs = IDs[0]\n",
    "        yield pIDs,(1,iCosts)\n",
    "        \n",
    "    def reducer2(self, pIDs, rev):\n",
    "        #print(type(rev))\n",
    "        yield pIDs, (sum(revTotal[0] for revTotal in rev)),round(sum(revTotal[1] for revTotal in rev),2)\n",
    "        #yield pIDs,sum(rev[0]),sum(rev[1])\n",
    "        #yield gender[int(k4)], max(v4s, key=lambda x:x[1])#can use for loop to run multiple times, if cmd line\n",
    "        \n",
    "    def steps(self):\n",
    "        return [\n",
    "            MRStep(mapper=self.mapper1, reducer=self.reducer1),\n",
    "            MRStep(mapper=self.mapper2, reducer=self.reducer2)\n",
    "        ]\n",
    "    \n",
    "file = '../Files/sale.csv'\n",
    "with open(file, 'r') as fi:\n",
    "    reader = csv.DictReader(fi)\n",
    "    output5 = list(mr.runJob(enumerate(reader),MRTask5(args=[])))\n",
    "\n",
    "output5"
   ]
  },
  {
   "cell_type": "markdown",
   "metadata": {},
   "source": [
    "# STREAMING solution WIP\n",
    "\n",
    "lastId = None\n",
    "currentSet = set()\n",
    "customers = {}\n",
    "revenues = {}\n",
    "\n",
    "file = '../Files/sale.csv'\n",
    "\n",
    "with open(file,'r') as fi:\n",
    "    reader = csv.reader(fi)\n",
    "    for d in reader:\n",
    "        if lastId!=d[0]:\n",
    "            if lastId!=None:\n",
    "                for p in currentSet:\n",
    "                    customers[p]=customers.get(p,0)+1\n",
    "                lastId = d[0]\n",
    "                currentSet = set()\n",
    "            print(d[3])\n",
    "            currentSet.add(d[3])\n",
    "            revenues[d[3]]=revenues.get(d[3],0)+float(d[4])\n",
    "            \n",
    "if lastId!=None:\n",
    "    for p in currentSet:\n",
    "        customers[p] = customers.get(p,0) + 1\n",
    "            "
   ]
  },
  {
   "cell_type": "code",
   "execution_count": 49,
   "metadata": {},
   "outputs": [
    {
     "data": {
      "text/plain": [
       "0.42542975927"
      ]
     },
     "execution_count": 49,
     "metadata": {},
     "output_type": "execute_result"
    }
   ],
   "source": [
    "from decimal import Decimal\n",
    "a= .42542975927\n",
    "a = float(a)\n",
    "a"
   ]
  },
  {
   "cell_type": "code",
   "execution_count": 50,
   "metadata": {},
   "outputs": [
    {
     "data": {
      "text/plain": [
       "0.43"
      ]
     },
     "execution_count": 50,
     "metadata": {},
     "output_type": "execute_result"
    }
   ],
   "source": [
    "round(a,2)"
   ]
  },
  {
   "cell_type": "code",
   "execution_count": 57,
   "metadata": {},
   "outputs": [
    {
     "name": "stdout",
     "output_type": "stream",
     "text": [
      "Traceback (most recent call last):\r\n",
      "  File \"BDM_HW2_BackEnd_Adomako.py\", line 2, in <module>\r\n",
      "    from mrjob.job import MRJob, MRStep\r\n",
      "ModuleNotFoundError: No module named 'mrjob'\r\n"
     ]
    }
   ],
   "source": [
    "!python BDM_HW2_BackEnd_Adomako.py sale_without_header.csv"
   ]
  },
  {
   "cell_type": "code",
   "execution_count": null,
   "metadata": {},
   "outputs": [],
   "source": []
  }
 ],
 "metadata": {
  "kernelspec": {
   "display_name": "Python 3",
   "language": "python",
   "name": "python3"
  },
  "language_info": {
   "codemirror_mode": {
    "name": "ipython",
    "version": 3
   },
   "file_extension": ".py",
   "mimetype": "text/x-python",
   "name": "python",
   "nbconvert_exporter": "python",
   "pygments_lexer": "ipython3",
   "version": "3.8.1"
  }
 },
 "nbformat": 4,
 "nbformat_minor": 1
}
