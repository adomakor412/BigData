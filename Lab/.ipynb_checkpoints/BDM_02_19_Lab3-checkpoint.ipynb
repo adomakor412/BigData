{
 "cells": [
  {
   "cell_type": "markdown",
   "metadata": {},
   "source": [
    "# Lab 3\n",
    "\n",
    "In this lab, we will practice Python's higher order functions, in particular, map(), filter() and reduce().\n",
    "\n",
    "\n",
    "## Task 1\n",
    "\n",
    "You are provided a list of service status updates scraped from an MTA information website. Each update may indicate <i>Good Service</i>, <i>Planned Work</i>, or <i>Delays</i> for one or more subway lines. Our first objective is to list all the lines that are running with <i>Delays</i>. To guide you through the process, we split the problem into smaller tasks."
   ]
  },
  {
   "cell_type": "code",
   "execution_count": 1,
   "metadata": {},
   "outputs": [],
   "source": [
    "from functools import reduce\n",
    "import csv\n",
    "\n",
    "# MapReduce\n",
    "from mrjob.job import MRJob"
   ]
  },
  {
   "cell_type": "code",
   "execution_count": 2,
   "metadata": {},
   "outputs": [],
   "source": [
    "# This is your input data, a list of subway line status.\n",
    "# It is a list of string in a specific format\n",
    "\n",
    "status = [\n",
    "    '1,2,3 : Good Service',\n",
    "    '4,5,6 : Delays',\n",
    "    '7 : Good Service',\n",
    "    'A,C : Good Service',\n",
    "    'E : Planned Work',\n",
    "    'G : Delays',\n",
    "    'B,D,F,M : Good Service',\n",
    "    'J,Z : Delays',\n",
    "    'L : Good Service',\n",
    "    'N,Q,R : Planned Work',\n",
    "    'S : Good Service',\n",
    "]"
   ]
  },
  {
   "cell_type": "markdown",
   "metadata": {},
   "source": [
    "### Sub-Task 1\n",
    "\n",
    "Please complete the lambda expression to filter only the status updates for the lines that run with <i>Delays</i>."
   ]
  },
  {
   "cell_type": "code",
   "execution_count": 3,
   "metadata": {},
   "outputs": [
    {
     "data": {
      "text/plain": [
       "['4,5,6 : Delays', 'G : Delays', 'J,Z : Delays']"
      ]
     },
     "execution_count": 3,
     "metadata": {},
     "output_type": "execute_result"
    }
   ],
   "source": [
    "delayUpdates = list(filter(lambda x: 'Delays' in x , status))\n",
    "\n",
    "delayUpdates\n",
    "# After this, your delayUpdates should be\n",
    "# ['4,5,6 : Delays', 'G : Delays', 'J,Z : Delays']"
   ]
  },
  {
   "cell_type": "markdown",
   "metadata": {},
   "source": [
    "### Sub-Task 2\n",
    "\n",
    "Please complete the lambda expression below to convert each status line into a list of subway lines, i.e. <b><i>'4,5,6 : Delays'</i></b> would become <b><i>['4','5','6']</i></b>"
   ]
  },
  {
   "cell_type": "code",
   "execution_count": 4,
   "metadata": {},
   "outputs": [
    {
     "data": {
      "text/plain": [
       "[['4', '5', '6'], ['G'], ['J', 'Z']]"
      ]
     },
     "execution_count": 4,
     "metadata": {},
     "output_type": "execute_result"
    }
   ],
   "source": [
    "delayLineList = list(map(lambda x: x.split(' :')[0].split(','), delayUpdates))\n",
    "delayLineList\n",
    "# After this, your delayLineList should be\n",
    "# [['4', '5', '6'], ['G'], ['J', 'Z']]"
   ]
  },
  {
   "cell_type": "markdown",
   "metadata": {},
   "source": [
    "### Sub-Task 3\n",
    "\n",
    "Please complete the reduce command below to convert each the list of subway lists given in <i>delayLineList</i> into a single list of subway lines running with delay."
   ]
  },
  {
   "cell_type": "code",
   "execution_count": 5,
   "metadata": {},
   "outputs": [
    {
     "data": {
      "text/plain": [
       "['4', '5', '6', 'G', 'J', 'Z']"
      ]
     },
     "execution_count": 5,
     "metadata": {},
     "output_type": "execute_result"
    }
   ],
   "source": [
    "delayLines = reduce(lambda x, y: x+y, delayLineList) #reduce returns values, map and filter are generators\n",
    "delayLines\n",
    "# After this, your delayLines should be\n",
    "# ['4', '5', '6', 'G', 'J', 'Z']"
   ]
  },
  {
   "cell_type": "markdown",
   "metadata": {},
   "source": [
    "### Sub-Task 4\n",
    "\n",
    "Please complete the reduce command below to count the number of lines in <b>delayLines</b>."
   ]
  },
  {
   "cell_type": "code",
   "execution_count": 6,
   "metadata": {},
   "outputs": [
    {
     "data": {
      "text/plain": [
       "6"
      ]
     },
     "execution_count": 6,
     "metadata": {},
     "output_type": "execute_result"
    }
   ],
   "source": [
    "delayLineCount = reduce(lambda x,y: x+1, delayLines, 0)\n",
    "delayLineCount\n",
    "# After this, your delayLineCount should be\n",
    "# 6"
   ]
  },
  {
   "cell_type": "markdown",
   "metadata": {},
   "source": [
    "## Task 2\n",
    "\n",
    "In this excercise, we would like to expand the combined service updatse into separate updates for each subway line. For example, instead of having a single line <b>'1,2,3 : Good Service'</b> to indicate that line 1, 2, and 3 are in good service, we would like to convert that into 3 separate updates: <b>'1 : Good Service'</b>, <b>'2 : Good Service'</b>, and <b>'3 : Good Service'</b>.\n",
    "\n",
    "You are tasked to write a chain of map(), filter(), and/or reduce() to convert the <b>status</b> variable into a list like below:"
   ]
  },
  {
   "cell_type": "raw",
   "metadata": {},
   "source": [
    "['1 : Good Service',\n",
    " '2 : Good Service',\n",
    " '3 : Good Service',\n",
    " '4 : Delays',\n",
    " '5 : Delays',\n",
    " '6 : Delays',\n",
    " '7 : Good Service',\n",
    " 'A : Good Service',\n",
    " 'C : Good Service',\n",
    " 'E : Planned Work',\n",
    " 'G : Delays',\n",
    " 'B : Good Service',\n",
    " 'D : Good Service',\n",
    " 'F : Good Service',\n",
    " 'M : Good Service',\n",
    " 'J : Delays',\n",
    " 'Z : Delays',\n",
    " 'L : Good Service',\n",
    " 'N : Planned Work',\n",
    " 'Q : Planned Work',\n",
    " 'R : Planned Work',\n",
    " 'S : Good Service']"
   ]
  },
  {
   "cell_type": "markdown",
   "metadata": {},
   "source": [
    "Please note that you may only use higher order functions without access to global variables. Your expression should contain only map(), filter() and/or reduce() and your custom function definitions."
   ]
  },
  {
   "cell_type": "code",
   "execution_count": 7,
   "metadata": {},
   "outputs": [
    {
     "data": {
      "text/plain": [
       "['1,2,3 : Good Service', '4,5,6 : Delays']"
      ]
     },
     "execution_count": 7,
     "metadata": {},
     "output_type": "execute_result"
    }
   ],
   "source": [
    "status[:2]"
   ]
  },
  {
   "cell_type": "code",
   "execution_count": 8,
   "metadata": {},
   "outputs": [
    {
     "name": "stdout",
     "output_type": "stream",
     "text": [
      "{'1': 'Good Service', '2': 'Good Service', '3': 'Good Service'}\n"
     ]
    },
    {
     "data": {
      "text/plain": [
       "{'1': 'Good Service',\n",
       " '2': 'Good Service',\n",
       " '3': 'Good Service',\n",
       " '4': 'Delays',\n",
       " '5': 'Delays',\n",
       " '6': 'Delays',\n",
       " '7': 'Good Service',\n",
       " 'A': 'Good Service',\n",
       " 'C': 'Good Service',\n",
       " 'E': 'Planned Work',\n",
       " 'G': 'Delays',\n",
       " 'B': 'Good Service',\n",
       " 'D': 'Good Service',\n",
       " 'F': 'Good Service',\n",
       " 'M': 'Good Service',\n",
       " 'J': 'Delays',\n",
       " 'Z': 'Delays',\n",
       " 'L': 'Good Service',\n",
       " 'N': 'Planned Work',\n",
       " 'Q': 'Planned Work',\n",
       " 'R': 'Planned Work',\n",
       " 'S': 'Good Service'}"
      ]
     },
     "execution_count": 8,
     "metadata": {},
     "output_type": "execute_result"
    }
   ],
   "source": [
    "# <ANY FUNCTION TO BE USED IN YOUR HOF>\n",
    "def transform(x):\n",
    "    y = x.split(' : ')\n",
    "    lines =y[0].split(',')\n",
    "    status = y[1]\n",
    "    return dict((line , status) for line in lines)\n",
    "    \n",
    "'''  \n",
    "    result =[]\n",
    "    for line in lines:\n",
    "        result.append(line + ' : ' + status)\n",
    "    return result\n",
    "'''\n",
    "updates = reduce(lambda x, y: {**x,**y},map(transform,status),{})\n",
    "\n",
    "#updates = transform(status[0])\n",
    "\n",
    "#updates = reduce(lambda x, y: x+y, map(transform,status))\n",
    "print(transform(status[0]))\n",
    "# The expected value of updates is the list shown above\n",
    "updates"
   ]
  },
  {
   "cell_type": "code",
   "execution_count": 9,
   "metadata": {},
   "outputs": [
    {
     "name": "stdout",
     "output_type": "stream",
     "text": [
      "None\n"
     ]
    },
    {
     "data": {
      "text/plain": [
       "{1: 2}"
      ]
     },
     "execution_count": 9,
     "metadata": {},
     "output_type": "execute_result"
    }
   ],
   "source": [
    "x = {}\n",
    "y = {1:2}\n",
    "print(x.update(y))\n",
    "x\n"
   ]
  },
  {
   "cell_type": "markdown",
   "metadata": {},
   "source": [
    "## Task 3\n",
    "\n",
    "We would like to write an HOF expression to count the total number of trip activities involved each station. For example, if a rider starts a trip at station A and ends at station B, each station A and B will receive +1 count for  the trip. The output must be tuples, each consisting of a station name and a total count. A portion of the expected output are included below."
   ]
  },
  {
   "cell_type": "code",
   "execution_count": 10,
   "metadata": {},
   "outputs": [
    {
     "data": {
      "text/plain": [
       "[('E 31 St & 3 Ave', 422),\n",
       " ('Cadman Plaza E & Red Cross Pl', 30),\n",
       " ('Division St & Bowery', 319),\n",
       " ('Pike St & E Broadway', 272),\n",
       " ('Mercer St & Bleecker St', 547),\n",
       " ('W Houston St & Hudson St', 377),\n",
       " ('Myrtle Ave & St Edwards St', 36),\n",
       " ('Washington St & Gansevoort St', 247),\n",
       " ('Avenue D & E 12 St', 44),\n",
       " ('E 6 St & Avenue B', 385)]"
      ]
     },
     "execution_count": 10,
     "metadata": {},
     "output_type": "execute_result"
    }
   ],
   "source": [
    "file = '../Files/citibike.csv'\n",
    "\n",
    "with open(file, 'r') as fi:\n",
    "    reader = csv.DictReader(fi)\n",
    "    output3 = reduce(lambda x, y: x+y, map(lambda x: [x['start_station_name'], x['end_station_name']], reader), [])\n",
    "    output3 = [(station, output3.count(station)) for station in set(output3)]\n",
    "\n",
    "output3[:10]"
   ]
  },
  {
   "cell_type": "code",
   "execution_count": 11,
   "metadata": {},
   "outputs": [
    {
     "data": {
      "text/plain": [
       "[('1 Ave & E 15 St', 795),\n",
       " ('1 Ave & E 44 St', 219),\n",
       " ('10 Ave & W 28 St', 422),\n",
       " ('11 Ave & W 27 St', 354),\n",
       " ('11 Ave & W 41 St', 461),\n",
       " ('11 Ave & W 59 St', 242),\n",
       " ('12 Ave & W 40 St', 217),\n",
       " ('2 Ave & E 31 St', 588),\n",
       " ('2 Ave & E 58 St', 125),\n",
       " ('3 Ave & Schermerhorn St', 34)]"
      ]
     },
     "execution_count": 11,
     "metadata": {},
     "output_type": "execute_result"
    }
   ],
   "source": [
    "from mrjob.job import MRJob, MRStep\n",
    "import csv, sys\n",
    "import mapreduce as mr\n",
    "\n",
    "class MRTask3(MRJob):\n",
    "    \n",
    "    def mapper(self, _,  v1):\n",
    "        yield v1['start_station_name'], 1\n",
    "        yield v1['end_station_name'], 1\n",
    "    \n",
    "    def reducer(self, k2, v2s):\n",
    "        yield k2, sum(v2s)\n",
    "\n",
    "with open(file, 'r') as fi:\n",
    "    reader = csv.DictReader(fi)\n",
    "    output3 = list(mr.runJob(enumerate(reader), MRTask3(args=[])))\n",
    "    \n",
    "output3[:10]\n"
   ]
  },
  {
   "cell_type": "markdown",
   "metadata": {},
   "source": [
    "## Task 4\n",
    "\n",
    "We would like to count the number of trips taken between pairs of stations. Trips taken from station A to station B or  from station B to station A are both counted towards the station pair A and B. *Please note that the station pair should be identified by station names, as a tuple, and **in lexical order**, i.e. **(A,B)** instead of ~~(B,A)~~ in this case*. The output must be tuples, each consisting of the station pair identification and a count. A portion of the expected output are included below. Please provide your HOF expression."
   ]
  },
  {
   "cell_type": "code",
   "execution_count": 12,
   "metadata": {},
   "outputs": [
    {
     "data": {
      "text/plain": [
       "[(('Lexington Ave & E 24 St', 'E 6 St & Avenue D'), 1),\n",
       " (('W 15 St & 7 Ave', '10 Ave & W 28 St'), 2),\n",
       " (('University Pl & E 14 St', 'Broadway & W 41 St'), 2),\n",
       " (('E 11 St & 2 Ave', '2 Ave & E 31 St'), 1),\n",
       " (('Bayard St & Baxter St', 'Columbia St & Rivington St'), 4),\n",
       " (('Lafayette Ave & Classon Ave', 'Clinton Ave & Myrtle Ave'), 1),\n",
       " (('W 20 St & 7 Ave', 'W Houston St & Hudson St'), 1),\n",
       " (('W 52 St & 9 Ave', 'W 45 St & 6 Ave'), 2),\n",
       " (('Maiden Ln & Pearl St', 'Liberty St & Broadway'), 3),\n",
       " (('E 7 St & Avenue A', 'E 11 St & 1 Ave'), 3)]"
      ]
     },
     "execution_count": 12,
     "metadata": {},
     "output_type": "execute_result"
    }
   ],
   "source": [
    "import csv\n",
    "import mapreduce as mr\n",
    "\n",
    "class MRTask4(MRJob):\n",
    "    \n",
    "    def mapper(self, k1,  v1):\n",
    "        if v1['start_station_name'] < v1['end_station_name']:\n",
    "            yield ((v1['start_station_name'] ,v1['end_station_name']),1)\n",
    "        else:\n",
    "            yield ((v1['end_station_name'],v1['start_station_name']),1)\n",
    "    \n",
    "    def reducer(self, k2, v2s):\n",
    "        yield k2, sum(v2s)\n",
    "        \n",
    "with open(file, 'r') as fi:\n",
    "    reader = csv.DictReader(fi)\n",
    "    output3 = reduce(lambda x, y: x+y, map(lambda x: [(x['start_station_name'], x['end_station_name'])], reader), [])\n",
    "    output3 = [(station, output3.count(station)) for station in set(output3)]\n",
    "\n",
    "output3[:10]"
   ]
  },
  {
   "cell_type": "markdown",
   "metadata": {},
   "source": [
    "## Task 5\n",
    "\n",
    "In this task, you are asked to compute the station with the most riders started from, per each gender of the *'Subscriber'* user. Meaning, what was the station name with the highest number of bike pickups for female riders, for male riders and for unknown riders.\n",
    "\n",
    "The output will be a list of tuples, each includes a gender label (as indicated below) and another tuple consisting of a station name, and the total number of trips started at that station for that gender. The expected output are included below. Please provide your HOF expression below.\n",
    "\n",
    "The label mapping for the gender column in citibike.csv is: (Zero=**Unknown**; 1=**Male**; 2=**Female**)"
   ]
  },
  {
   "cell_type": "code",
   "execution_count": 15,
   "metadata": {},
   "outputs": [
    {
     "data": {
      "text/plain": [
       "[('Unkonwn', ('Catherine St & Monroe St', 1)),\n",
       " ('Male', ('8 Ave & W 31 St', 488)),\n",
       " ('Female', ('W 21 St & 6 Ave', 107))]"
      ]
     },
     "execution_count": 15,
     "metadata": {},
     "output_type": "execute_result"
    }
   ],
   "source": [
    "import csv\n",
    "import mapreduce as mr\n",
    "from mrjob.job import MRJob, MRStep\n",
    "\n",
    "file = '../Files/citibike.csv'\n",
    "\n",
    "class MRTask5(MRJob):\n",
    "    \n",
    "    def mapper1(self, _,  v1):\n",
    "        gender = v1['gender']\n",
    "        station = v1['start_station_name']\n",
    "        \n",
    "        if v1['usertype']=='Subscriber':\n",
    "            yield ((gender,station),1)\n",
    "    \n",
    "    def reducer1(self, k2, v2s):\n",
    "        yield k2, sum(v2s)\n",
    "\n",
    "    def mapper2(self,k3,v3):\n",
    "        gender, station = k3\n",
    "        yield (gender, (station,v3))\n",
    "        \n",
    "    def reducer2(self, k4, v4s):\n",
    "        gender = ('Unkonwn', 'Male','Female')\n",
    "        #yield (k2, len(v2s),sum(v2s))\n",
    "        yield gender[int(k4)], max(v4s, key=lambda x:x[1])#can use for loop to run multiple times\n",
    "        \n",
    "    def steps(self):\n",
    "        return [\n",
    "            MRStep(mapper=self.mapper1, reducer=self.reducer1),\n",
    "            MRStep(mapper=self.mapper2, reducer=self.reducer2)\n",
    "        ]\n",
    "with open(file, 'r') as fi:\n",
    "    reader = csv.DictReader(fi)\n",
    "    output5 = list(mr.runJob(enumerate(reader),MRTask5(args=[])))\n",
    "\n",
    "output5"
   ]
  },
  {
   "cell_type": "code",
   "execution_count": 16,
   "metadata": {},
   "outputs": [
    {
     "name": "stdout",
     "output_type": "stream",
     "text": [
      "\"words\"\t38538\r\n",
      "\"lines\"\t5877\r\n",
      "\"chars\"\t246432\r\n"
     ]
    }
   ],
   "source": [
    "!python mr_word_count.py book.txt 2>/dev/null"
   ]
  },
  {
   "cell_type": "code",
   "execution_count": 18,
   "metadata": {},
   "outputs": [
    {
     "name": "stdout",
     "output_type": "stream",
     "text": [
      "A 1 11.99\n",
      "B 1 5.99\n",
      "C 1 0.99\n",
      "D 1 13.99\n"
     ]
    }
   ],
   "source": [
    "import csv\n",
    "pd = {}\n",
    "\n",
    "with open('../Files/sale_small.csv', 'r') as fi:\n",
    "    reader = csv.reader(fi)\n",
    "    next(reader)\n",
    "    for record in reader:\n",
    "        cid,pid,cost = (record[0],record[3],float(record[4]))\n",
    "        if cid in pd:\n",
    "            pd[pid][0] += cid\n",
    "            pd[pid][1] += cost\n",
    "        else:\n",
    "            pd[pid] = [[cid],[cost]]\n",
    "            \n",
    "for pid,value in pd.items():\n",
    "    print(pid, len(set(value[0])),sum(value[1]))"
   ]
  },
  {
   "cell_type": "code",
   "execution_count": null,
   "metadata": {},
   "outputs": [],
   "source": []
  }
 ],
 "metadata": {
  "kernelspec": {
   "display_name": "Python 3",
   "language": "python",
   "name": "python3"
  },
  "language_info": {
   "codemirror_mode": {
    "name": "ipython",
    "version": 3
   },
   "file_extension": ".py",
   "mimetype": "text/x-python",
   "name": "python",
   "nbconvert_exporter": "python",
   "pygments_lexer": "ipython3",
   "version": "3.8.1"
  }
 },
 "nbformat": 4,
 "nbformat_minor": 1
}
