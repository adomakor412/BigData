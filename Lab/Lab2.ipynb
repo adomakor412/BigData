{
 "cells": [
  {
   "cell_type": "code",
   "execution_count": 95,
   "metadata": {},
   "outputs": [
    {
     "name": "stdout",
     "output_type": "stream",
     "text": [
      "Product:P32565 | No. of cust.: 16 | Revenue: $986.1\n",
      "Product:P02291 | No. of cust.: 16 | Revenue: $1174.98\n",
      "Product:P76615 | No. of cust.: 17 | Revenue: $1085.97\n",
      "Product:P61235 | No. of cust.: 17 | Revenue: $943.03\n",
      "Product:P82222 | No. of cust.: 16 | Revenue: $942.06\n",
      "Product:P33162 | No. of cust.: 18 | Revenue: $1208.93\n",
      "Product:P39328 | No. of cust.: 16 | Revenue: $1119.02\n",
      "Product:P92449 | No. of cust.: 13 | Revenue: $945.18\n",
      "Product:P58225 | No. of cust.: 16 | Revenue: $1347.83\n",
      "Product:P19498 | No. of cust.: 17 | Revenue: $988.0\n"
     ]
    }
   ],
   "source": [
    "import sys, csv\n",
    "\n",
    "file = \"FILES/sale.csv\"\n",
    "\n",
    "sales = {}\n",
    "\n",
    "with open(file) as f:\n",
    "    reader = csv.DictReader(f)\n",
    "    for event in reader:\n",
    "        product = event['Product ID']\n",
    "        sale = float(event['Item Cost'])\n",
    "        cID = event['Customer ID'] #presorted by customer ID\n",
    "        \n",
    "        if product in sales:\n",
    "            sales[product][0].add(cID)\n",
    "            sales[product][1]+=sale\n",
    "            \n",
    "        else:\n",
    "            sales[product]=[set(),0]\n",
    "#print(sales.item)           \n",
    "\n",
    "for item in sales:\n",
    "    print(f'Product:{item} | No. of cust.: {len(sales[item][0])} | Revenue: ${round(sales[item][1],2)}')"
   ]
  },
  {
   "cell_type": "code",
   "execution_count": 56,
   "metadata": {},
   "outputs": [],
   "source": [
    "# output = open(sys.argv[2],'a')\n",
    "#     print (sorted(sales))\n",
    "    \n",
    "    \n",
    "            \n"
   ]
  }
 ],
 "metadata": {
  "kernelspec": {
   "display_name": "Python 3",
   "language": "python",
   "name": "python3"
  },
  "language_info": {
   "codemirror_mode": {
    "name": "ipython",
    "version": 3
   },
   "file_extension": ".py",
   "mimetype": "text/x-python",
   "name": "python",
   "nbconvert_exporter": "python",
   "pygments_lexer": "ipython3",
   "version": "3.7.6"
  }
 },
 "nbformat": 4,
 "nbformat_minor": 4
}
